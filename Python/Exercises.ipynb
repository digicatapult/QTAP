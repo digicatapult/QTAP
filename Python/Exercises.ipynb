{
 "cells": [
  {
   "cell_type": "markdown",
   "id": "227b4f7e",
   "metadata": {},
   "source": [
    "# Exercises"
   ]
  },
  {
   "cell_type": "markdown",
   "id": "a0c539f3",
   "metadata": {},
   "source": [
    "## Exercise 1 - tuples"
   ]
  },
  {
   "cell_type": "code",
   "execution_count": 1,
   "id": "518b5a6c",
   "metadata": {},
   "outputs": [],
   "source": [
    "# Write some Python code to set up my_tuple as a tuple with entries 1, 2, 3\n",
    "\n",
    "# Write some code to print out my_tuple\n"
   ]
  },
  {
   "cell_type": "markdown",
   "id": "034cbba6",
   "metadata": {},
   "source": [
    "## Exercise 2 - lists"
   ]
  },
  {
   "cell_type": "code",
   "execution_count": 2,
   "id": "bf9b455e",
   "metadata": {},
   "outputs": [],
   "source": [
    "# Change the code below to set up some Python code to set up my_list as a list with entries 1, 2, 3.  \n",
    "my_list = []\n",
    "# Write some code to print out my_list\n"
   ]
  },
  {
   "cell_type": "markdown",
   "id": "8476a395",
   "metadata": {},
   "source": [
    "## Exercise 3 - logic"
   ]
  },
  {
   "cell_type": "code",
   "execution_count": 3,
   "id": "96cd191f",
   "metadata": {},
   "outputs": [],
   "source": [
    "# Write some Python code that prints out \n",
    "#'List has more than 2 entries' if my_list has more than 2 entries', and otherwise\n",
    "#'List has 2 or fewer entries'\n",
    "# Hint use an if / else construction.  Remember to put use the : after if / else and indent the line by four charactors\n"
   ]
  },
  {
   "cell_type": "markdown",
   "id": "1caae958",
   "metadata": {},
   "source": [
    "## Exercise 4 - iteration"
   ]
  },
  {
   "cell_type": "code",
   "execution_count": 4,
   "id": "dae797e2",
   "metadata": {},
   "outputs": [],
   "source": [
    "#Write some Python code to iterate over the list and print out the cube of the numbers. \n",
    "#The code below has been started, but is not complete or correct: \n",
    "for item in my_list:\n",
    "    print(item)"
   ]
  },
  {
   "cell_type": "markdown",
   "id": "d94908fe",
   "metadata": {},
   "source": [
    "## Exercise 5 - functions"
   ]
  },
  {
   "cell_type": "code",
   "execution_count": 5,
   "id": "fea29ddd",
   "metadata": {},
   "outputs": [],
   "source": [
    "# Complete the python code below to set up a function module to return the sum of the cubes of the items.\n",
    "# The code has been started below"
   ]
  },
  {
   "cell_type": "code",
   "execution_count": 6,
   "id": "08535d03",
   "metadata": {},
   "outputs": [],
   "source": [
    "def sum_of_cubes(input_list):\n",
    "    sum_of_cubes = 0\n",
    "    # write some code here to iterate over the input list\n",
    "    \n",
    "    \n",
    "    return(sum_of_cubes)"
   ]
  },
  {
   "cell_type": "code",
   "execution_count": 7,
   "id": "3c48fb23",
   "metadata": {},
   "outputs": [],
   "source": [
    "# some code has been written to call your function\n",
    "# now add some more code to print out the sums of values in my_list.\n",
    "# is the answer what you expect?\n",
    "total = sum_of_cubes(my_list)\n"
   ]
  },
  {
   "cell_type": "markdown",
   "id": "47de5dc9",
   "metadata": {},
   "source": [
    "## Exercise 6 - importing and formatting"
   ]
  },
  {
   "cell_type": "code",
   "execution_count": 8,
   "id": "4415f317",
   "metadata": {},
   "outputs": [
    {
     "name": "stdout",
     "output_type": "stream",
     "text": [
      "pi = 0.0\n"
     ]
    }
   ],
   "source": [
    "#Write code to import the numpy library as np\n",
    "\n",
    "#change the code below set the variable pi to np.pi\n",
    "pi = 0\n",
    "#change this f statement to print out pi to 5 places of decimals\n",
    "print(f'pi = {pi:.1f}')"
   ]
  }
 ],
 "metadata": {
  "kernelspec": {
   "display_name": "Python 3 (ipykernel)",
   "language": "python",
   "name": "python3"
  },
  "language_info": {
   "codemirror_mode": {
    "name": "ipython",
    "version": 3
   },
   "file_extension": ".py",
   "mimetype": "text/x-python",
   "name": "python",
   "nbconvert_exporter": "python",
   "pygments_lexer": "ipython3",
   "version": "3.9.7"
  }
 },
 "nbformat": 4,
 "nbformat_minor": 5
}
