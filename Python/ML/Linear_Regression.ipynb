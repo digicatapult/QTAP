{
 "cells": [
  {
   "cell_type": "markdown",
   "id": "ae0c5a78",
   "metadata": {},
   "source": [
    "# Linear regression\n",
    "Example showing Linear regression written in python using SciKit Learn (sklearn)."
   ]
  },
  {
   "cell_type": "markdown",
   "id": "18834c38",
   "metadata": {},
   "source": [
    "Import the necessary libraries:"
   ]
  },
  {
   "cell_type": "code",
   "execution_count": 1,
   "id": "128b10db",
   "metadata": {},
   "outputs": [],
   "source": [
    "import pandas as pd\n",
    "import numpy as np\n",
    "import matplotlib.pyplot as plt\n",
    "\n",
    "from sklearn.model_selection import train_test_split\n",
    "\n",
    "from sklearn import linear_model\n",
    "from sklearn.metrics import r2_score"
   ]
  },
  {
   "cell_type": "markdown",
   "id": "c81bad37",
   "metadata": {},
   "source": [
    "Define constants used:"
   ]
  },
  {
   "cell_type": "code",
   "execution_count": 2,
   "id": "52cdd339",
   "metadata": {},
   "outputs": [],
   "source": [
    "FILENAME = 'data/company_data.csv'\n",
    "PLOT1 = 'raw_dat1.png'\n",
    "PLOT2 = 'best_fit1.png'"
   ]
  },
  {
   "cell_type": "markdown",
   "id": "1dc2ba7f",
   "metadata": {},
   "source": [
    "Read file and display first five records:"
   ]
  },
  {
   "cell_type": "code",
   "execution_count": 3,
   "id": "afa18743",
   "metadata": {},
   "outputs": [
    {
     "data": {
      "text/html": [
       "<div>\n",
       "<style scoped>\n",
       "    .dataframe tbody tr th:only-of-type {\n",
       "        vertical-align: middle;\n",
       "    }\n",
       "\n",
       "    .dataframe tbody tr th {\n",
       "        vertical-align: top;\n",
       "    }\n",
       "\n",
       "    .dataframe thead th {\n",
       "        text-align: right;\n",
       "    }\n",
       "</style>\n",
       "<table border=\"1\" class=\"dataframe\">\n",
       "  <thead>\n",
       "    <tr style=\"text-align: right;\">\n",
       "      <th></th>\n",
       "      <th>BestEstimateEmployees</th>\n",
       "      <th>BestEstimateTurnover</th>\n",
       "      <th>Latitude</th>\n",
       "      <th>Longitude</th>\n",
       "    </tr>\n",
       "  </thead>\n",
       "  <tbody>\n",
       "    <tr>\n",
       "      <th>0</th>\n",
       "      <td>27</td>\n",
       "      <td>3160000</td>\n",
       "      <td>50.39</td>\n",
       "      <td>-4.02</td>\n",
       "    </tr>\n",
       "    <tr>\n",
       "      <th>1</th>\n",
       "      <td>12</td>\n",
       "      <td>230000</td>\n",
       "      <td>50.44</td>\n",
       "      <td>-3.56</td>\n",
       "    </tr>\n",
       "    <tr>\n",
       "      <th>2</th>\n",
       "      <td>69</td>\n",
       "      <td>4799228</td>\n",
       "      <td>50.49</td>\n",
       "      <td>-3.55</td>\n",
       "    </tr>\n",
       "    <tr>\n",
       "      <th>3</th>\n",
       "      <td>4</td>\n",
       "      <td>1985000</td>\n",
       "      <td>50.53</td>\n",
       "      <td>-3.60</td>\n",
       "    </tr>\n",
       "    <tr>\n",
       "      <th>4</th>\n",
       "      <td>1</td>\n",
       "      <td>190000</td>\n",
       "      <td>50.55</td>\n",
       "      <td>-4.44</td>\n",
       "    </tr>\n",
       "  </tbody>\n",
       "</table>\n",
       "</div>"
      ],
      "text/plain": [
       "   BestEstimateEmployees  BestEstimateTurnover  Latitude  Longitude\n",
       "0                     27               3160000     50.39      -4.02\n",
       "1                     12                230000     50.44      -3.56\n",
       "2                     69               4799228     50.49      -3.55\n",
       "3                      4               1985000     50.53      -3.60\n",
       "4                      1                190000     50.55      -4.44"
      ]
     },
     "execution_count": 3,
     "metadata": {},
     "output_type": "execute_result"
    }
   ],
   "source": [
    "df = pd.read_csv(FILENAME)\n",
    "df.head()"
   ]
  },
  {
   "cell_type": "markdown",
   "id": "488b97a3",
   "metadata": {},
   "source": [
    "Edit file to delete variables not needed later:"
   ]
  },
  {
   "cell_type": "code",
   "execution_count": 4,
   "id": "68063155",
   "metadata": {},
   "outputs": [
    {
     "data": {
      "text/html": [
       "<div>\n",
       "<style scoped>\n",
       "    .dataframe tbody tr th:only-of-type {\n",
       "        vertical-align: middle;\n",
       "    }\n",
       "\n",
       "    .dataframe tbody tr th {\n",
       "        vertical-align: top;\n",
       "    }\n",
       "\n",
       "    .dataframe thead th {\n",
       "        text-align: right;\n",
       "    }\n",
       "</style>\n",
       "<table border=\"1\" class=\"dataframe\">\n",
       "  <thead>\n",
       "    <tr style=\"text-align: right;\">\n",
       "      <th></th>\n",
       "      <th>BestEstimateEmployees</th>\n",
       "      <th>BestEstimateTurnover</th>\n",
       "    </tr>\n",
       "  </thead>\n",
       "  <tbody>\n",
       "    <tr>\n",
       "      <th>0</th>\n",
       "      <td>27</td>\n",
       "      <td>3160000</td>\n",
       "    </tr>\n",
       "    <tr>\n",
       "      <th>1</th>\n",
       "      <td>12</td>\n",
       "      <td>230000</td>\n",
       "    </tr>\n",
       "    <tr>\n",
       "      <th>2</th>\n",
       "      <td>69</td>\n",
       "      <td>4799228</td>\n",
       "    </tr>\n",
       "    <tr>\n",
       "      <th>3</th>\n",
       "      <td>4</td>\n",
       "      <td>1985000</td>\n",
       "    </tr>\n",
       "    <tr>\n",
       "      <th>4</th>\n",
       "      <td>1</td>\n",
       "      <td>190000</td>\n",
       "    </tr>\n",
       "  </tbody>\n",
       "</table>\n",
       "</div>"
      ],
      "text/plain": [
       "   BestEstimateEmployees  BestEstimateTurnover\n",
       "0                     27               3160000\n",
       "1                     12                230000\n",
       "2                     69               4799228\n",
       "3                      4               1985000\n",
       "4                      1                190000"
      ]
     },
     "execution_count": 4,
     "metadata": {},
     "output_type": "execute_result"
    }
   ],
   "source": [
    "del df['Latitude']\n",
    "del df['Longitude']\n",
    "df.head()"
   ]
  },
  {
   "cell_type": "markdown",
   "id": "d408db0a",
   "metadata": {},
   "source": [
    "Clean file - remove rows with missing values:"
   ]
  },
  {
   "cell_type": "code",
   "execution_count": 5,
   "id": "50c04046",
   "metadata": {
    "scrolled": true
   },
   "outputs": [
    {
     "data": {
      "text/html": [
       "<div>\n",
       "<style scoped>\n",
       "    .dataframe tbody tr th:only-of-type {\n",
       "        vertical-align: middle;\n",
       "    }\n",
       "\n",
       "    .dataframe tbody tr th {\n",
       "        vertical-align: top;\n",
       "    }\n",
       "\n",
       "    .dataframe thead th {\n",
       "        text-align: right;\n",
       "    }\n",
       "</style>\n",
       "<table border=\"1\" class=\"dataframe\">\n",
       "  <thead>\n",
       "    <tr style=\"text-align: right;\">\n",
       "      <th></th>\n",
       "      <th>BestEstimateEmployees</th>\n",
       "      <th>BestEstimateTurnover</th>\n",
       "    </tr>\n",
       "  </thead>\n",
       "  <tbody>\n",
       "    <tr>\n",
       "      <th>0</th>\n",
       "      <td>27</td>\n",
       "      <td>3160000</td>\n",
       "    </tr>\n",
       "    <tr>\n",
       "      <th>1</th>\n",
       "      <td>12</td>\n",
       "      <td>230000</td>\n",
       "    </tr>\n",
       "    <tr>\n",
       "      <th>2</th>\n",
       "      <td>69</td>\n",
       "      <td>4799228</td>\n",
       "    </tr>\n",
       "    <tr>\n",
       "      <th>3</th>\n",
       "      <td>4</td>\n",
       "      <td>1985000</td>\n",
       "    </tr>\n",
       "    <tr>\n",
       "      <th>4</th>\n",
       "      <td>1</td>\n",
       "      <td>190000</td>\n",
       "    </tr>\n",
       "    <tr>\n",
       "      <th>...</th>\n",
       "      <td>...</td>\n",
       "      <td>...</td>\n",
       "    </tr>\n",
       "    <tr>\n",
       "      <th>307</th>\n",
       "      <td>29</td>\n",
       "      <td>5695000</td>\n",
       "    </tr>\n",
       "    <tr>\n",
       "      <th>308</th>\n",
       "      <td>16</td>\n",
       "      <td>2395000</td>\n",
       "    </tr>\n",
       "    <tr>\n",
       "      <th>309</th>\n",
       "      <td>35</td>\n",
       "      <td>5460000</td>\n",
       "    </tr>\n",
       "    <tr>\n",
       "      <th>310</th>\n",
       "      <td>25</td>\n",
       "      <td>300000</td>\n",
       "    </tr>\n",
       "    <tr>\n",
       "      <th>311</th>\n",
       "      <td>4</td>\n",
       "      <td>125000</td>\n",
       "    </tr>\n",
       "  </tbody>\n",
       "</table>\n",
       "<p>312 rows × 2 columns</p>\n",
       "</div>"
      ],
      "text/plain": [
       "     BestEstimateEmployees  BestEstimateTurnover\n",
       "0                       27               3160000\n",
       "1                       12                230000\n",
       "2                       69               4799228\n",
       "3                        4               1985000\n",
       "4                        1                190000\n",
       "..                     ...                   ...\n",
       "307                     29               5695000\n",
       "308                     16               2395000\n",
       "309                     35               5460000\n",
       "310                     25                300000\n",
       "311                      4                125000\n",
       "\n",
       "[312 rows x 2 columns]"
      ]
     },
     "execution_count": 5,
     "metadata": {},
     "output_type": "execute_result"
    }
   ],
   "source": [
    "df.dropna()"
   ]
  },
  {
   "cell_type": "markdown",
   "id": "03cf1d4f",
   "metadata": {},
   "source": [
    "Cast data as a Numpy array and plot data before processing:  "
   ]
  },
  {
   "cell_type": "code",
   "execution_count": 6,
   "id": "bccba38e",
   "metadata": {},
   "outputs": [
    {
     "data": {
      "image/png": "[encoded data removed]",
      "text/plain": [
       "<Figure size 432x288 with 1 Axes>"
      ]
     },
     "metadata": {
      "needs_background": "light"
     },
     "output_type": "display_data"
    }
   ],
   "source": [
    "fig, ax = plt.subplots()\n",
    "#need to cast data as a numpy array for later.  \n",
    "#the plot works without doing this because the data is automatically converted to a \n",
    "#numpy array in matplotlib\n",
    "x = np.array(df.drop('BestEstimateTurnover',axis=1))   \n",
    "y = np.array(df['BestEstimateTurnover'])\n",
    "ax.set_xlabel('Employees')\n",
    "ax.set_ylabel('Turnover')\n",
    "ax.set_title('Employees against Turnover')\n",
    "ax.scatter(x, y)\n",
    "fig.savefig(PLOT1)"
   ]
  },
  {
   "cell_type": "markdown",
   "id": "8629292e",
   "metadata": {},
   "source": [
    "Use standard SKLEARN functionality to split the data into a test and training data set:"
   ]
  },
  {
   "cell_type": "code",
   "execution_count": 7,
   "id": "6d130210",
   "metadata": {},
   "outputs": [],
   "source": [
    "x_train, x_test, y_train, y_test = train_test_split(x, y, test_size = 0.3, shuffle = False)"
   ]
  },
  {
   "cell_type": "markdown",
   "id": "990f20e4",
   "metadata": {},
   "source": [
    "Create a linear regression model and train the model using the training sets:"
   ]
  },
  {
   "cell_type": "code",
   "execution_count": 8,
   "id": "833e9f6a",
   "metadata": {},
   "outputs": [
    {
     "data": {
      "text/plain": [
       "LinearRegression()"
      ]
     },
     "execution_count": 8,
     "metadata": {},
     "output_type": "execute_result"
    }
   ],
   "source": [
    "regr = linear_model.LinearRegression()\n",
    "regr.fit(x_train, y_train)"
   ]
  },
  {
   "cell_type": "markdown",
   "id": "fbbc1836",
   "metadata": {},
   "source": [
    "Make predictions using the testing set and assess accuracy of predictions:"
   ]
  },
  {
   "cell_type": "code",
   "execution_count": 9,
   "id": "9b9f5fd8",
   "metadata": {},
   "outputs": [
    {
     "name": "stdout",
     "output_type": "stream",
     "text": [
      "The offset is 1,498,408 and the gradient of the slope is 199,166\n",
      "The coefficient of determination, a measure of the fit is: 0.79\n",
      "1 is perfect prediction\n"
     ]
    }
   ],
   "source": [
    "y_pred = regr.predict(x_test)\n",
    "\n",
    "# The gradient and intercept of the slope.  Gradient is first item in coefficent list.\n",
    "gradient = regr.coef_[0]\n",
    "print(f\"The offset is {regr.intercept_:,.0f} and the gradient of the slope is {gradient:,.0f}\")\n",
    "\n",
    "# The coefficient of determination\n",
    "print(f\"The coefficient of determination, a measure of the fit is: {r2_score(y_test, y_pred):.2f}\")\n",
    "print(\"1 is perfect prediction\")"
   ]
  },
  {
   "cell_type": "markdown",
   "id": "c7f4f7a6",
   "metadata": {},
   "source": [
    "Plot the calculated regression line against the test data: "
   ]
  },
  {
   "cell_type": "code",
   "execution_count": 10,
   "id": "87ec2fdd",
   "metadata": {},
   "outputs": [
    {
     "data": {
      "image/png": "[encoded data removed]",
      "text/plain": [
       "<Figure size 432x288 with 1 Axes>"
      ]
     },
     "metadata": {
      "needs_background": "light"
     },
     "output_type": "display_data"
    }
   ],
   "source": [
    "fig, ax = plt.subplots()\n",
    "ax.set_xlabel('Employees')\n",
    "ax.set_ylabel('Turnover')\n",
    "ax.set_title('Employees against Turnover')\n",
    "ax.scatter(x_test, y_test, color=\"black\")\n",
    "ax.plot(x_test, y_pred, color=\"blue\", linewidth=3)\n",
    "fig.savefig(PLOT2)"
   ]
  }
 ],
 "metadata": {
  "kernelspec": {
   "display_name": "Python 3 (ipykernel)",
   "language": "python",
   "name": "python3"
  },
  "language_info": {
   "codemirror_mode": {
    "name": "ipython",
    "version": 3
   },
   "file_extension": ".py",
   "mimetype": "text/x-python",
   "name": "python",
   "nbconvert_exporter": "python",
   "pygments_lexer": "ipython3",
   "version": "3.9.12"
  }
 },
 "nbformat": 4,
 "nbformat_minor": 5
}
