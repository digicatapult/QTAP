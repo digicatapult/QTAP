{
 "cells": [
  {
   "cell_type": "markdown",
   "id": "ae0c5a78",
   "metadata": {},
   "source": [
    "# Overfitting\n",
    "Example showing issues with overfitting written in python using SciKit Learn (sklearn) using manufactured data."
   ]
  },
  {
   "cell_type": "markdown",
   "id": "18834c38",
   "metadata": {},
   "source": [
    "Import the necessary libraries:"
   ]
  },
  {
   "cell_type": "code",
   "execution_count": 1,
   "id": "128b10db",
   "metadata": {},
   "outputs": [],
   "source": [
    "import pandas as pd\n",
    "import numpy as np\n",
    "import matplotlib.pyplot as plt\n",
    "\n",
    "from sklearn.model_selection import train_test_split\n",
    "\n",
    "from sklearn import linear_model\n",
    "from sklearn.metrics import r2_score\n",
    "from sklearn.preprocessing import PolynomialFeatures"
   ]
  },
  {
   "cell_type": "markdown",
   "id": "c81bad37",
   "metadata": {},
   "source": [
    "Define constants used:"
   ]
  },
  {
   "cell_type": "code",
   "execution_count": 2,
   "id": "52cdd339",
   "metadata": {},
   "outputs": [],
   "source": [
    "FILENAME = 'data/company_data2.csv'\n",
    "PLOT1 = 'raw_dat2.png'\n",
    "PLOT2 = 'best_fit2.png'\n",
    "DEGREE = 6"
   ]
  },
  {
   "cell_type": "markdown",
   "id": "1dc2ba7f",
   "metadata": {},
   "source": [
    "Read file and display first five records:"
   ]
  },
  {
   "cell_type": "code",
   "execution_count": 3,
   "id": "afa18743",
   "metadata": {},
   "outputs": [
    {
     "data": {
      "text/html": [
       "<div>\n",
       "<style scoped>\n",
       "    .dataframe tbody tr th:only-of-type {\n",
       "        vertical-align: middle;\n",
       "    }\n",
       "\n",
       "    .dataframe tbody tr th {\n",
       "        vertical-align: top;\n",
       "    }\n",
       "\n",
       "    .dataframe thead th {\n",
       "        text-align: right;\n",
       "    }\n",
       "</style>\n",
       "<table border=\"1\" class=\"dataframe\">\n",
       "  <thead>\n",
       "    <tr style=\"text-align: right;\">\n",
       "      <th></th>\n",
       "      <th>BestEstimateEmployees</th>\n",
       "      <th>BestEstimateTurnover</th>\n",
       "      <th>Latitude</th>\n",
       "      <th>Longitude</th>\n",
       "    </tr>\n",
       "  </thead>\n",
       "  <tbody>\n",
       "    <tr>\n",
       "      <th>0</th>\n",
       "      <td>1</td>\n",
       "      <td>190000</td>\n",
       "      <td>50.55</td>\n",
       "      <td>-4.44</td>\n",
       "    </tr>\n",
       "    <tr>\n",
       "      <th>1</th>\n",
       "      <td>3</td>\n",
       "      <td>240000</td>\n",
       "      <td>50.86</td>\n",
       "      <td>-4.21</td>\n",
       "    </tr>\n",
       "    <tr>\n",
       "      <th>2</th>\n",
       "      <td>5</td>\n",
       "      <td>400000</td>\n",
       "      <td>51.13</td>\n",
       "      <td>-0.18</td>\n",
       "    </tr>\n",
       "    <tr>\n",
       "      <th>3</th>\n",
       "      <td>8</td>\n",
       "      <td>615000</td>\n",
       "      <td>51.34</td>\n",
       "      <td>-0.74</td>\n",
       "    </tr>\n",
       "    <tr>\n",
       "      <th>4</th>\n",
       "      <td>11</td>\n",
       "      <td>95000</td>\n",
       "      <td>50.94</td>\n",
       "      <td>-1.47</td>\n",
       "    </tr>\n",
       "  </tbody>\n",
       "</table>\n",
       "</div>"
      ],
      "text/plain": [
       "   BestEstimateEmployees  BestEstimateTurnover  Latitude  Longitude\n",
       "0                      1                190000     50.55      -4.44\n",
       "1                      3                240000     50.86      -4.21\n",
       "2                      5                400000     51.13      -0.18\n",
       "3                      8                615000     51.34      -0.74\n",
       "4                     11                 95000     50.94      -1.47"
      ]
     },
     "execution_count": 3,
     "metadata": {},
     "output_type": "execute_result"
    }
   ],
   "source": [
    "df = pd.read_csv(FILENAME)\n",
    "df.head()"
   ]
  },
  {
   "cell_type": "markdown",
   "id": "488b97a3",
   "metadata": {},
   "source": [
    "Edit file to delete features not needed later:"
   ]
  },
  {
   "cell_type": "code",
   "execution_count": 4,
   "id": "68063155",
   "metadata": {},
   "outputs": [
    {
     "data": {
      "text/html": [
       "<div>\n",
       "<style scoped>\n",
       "    .dataframe tbody tr th:only-of-type {\n",
       "        vertical-align: middle;\n",
       "    }\n",
       "\n",
       "    .dataframe tbody tr th {\n",
       "        vertical-align: top;\n",
       "    }\n",
       "\n",
       "    .dataframe thead th {\n",
       "        text-align: right;\n",
       "    }\n",
       "</style>\n",
       "<table border=\"1\" class=\"dataframe\">\n",
       "  <thead>\n",
       "    <tr style=\"text-align: right;\">\n",
       "      <th></th>\n",
       "      <th>BestEstimateEmployees</th>\n",
       "      <th>BestEstimateTurnover</th>\n",
       "    </tr>\n",
       "  </thead>\n",
       "  <tbody>\n",
       "    <tr>\n",
       "      <th>0</th>\n",
       "      <td>1</td>\n",
       "      <td>190000</td>\n",
       "    </tr>\n",
       "    <tr>\n",
       "      <th>1</th>\n",
       "      <td>3</td>\n",
       "      <td>240000</td>\n",
       "    </tr>\n",
       "    <tr>\n",
       "      <th>2</th>\n",
       "      <td>5</td>\n",
       "      <td>400000</td>\n",
       "    </tr>\n",
       "    <tr>\n",
       "      <th>3</th>\n",
       "      <td>8</td>\n",
       "      <td>615000</td>\n",
       "    </tr>\n",
       "    <tr>\n",
       "      <th>4</th>\n",
       "      <td>11</td>\n",
       "      <td>95000</td>\n",
       "    </tr>\n",
       "  </tbody>\n",
       "</table>\n",
       "</div>"
      ],
      "text/plain": [
       "   BestEstimateEmployees  BestEstimateTurnover\n",
       "0                      1                190000\n",
       "1                      3                240000\n",
       "2                      5                400000\n",
       "3                      8                615000\n",
       "4                     11                 95000"
      ]
     },
     "execution_count": 4,
     "metadata": {},
     "output_type": "execute_result"
    }
   ],
   "source": [
    "del df['Latitude']\n",
    "del df['Longitude']\n",
    "df.head()"
   ]
  },
  {
   "cell_type": "markdown",
   "id": "03cf1d4f",
   "metadata": {},
   "source": [
    "Cast data as a Numpy array and plot data before processing:  "
   ]
  },
  {
   "cell_type": "code",
   "execution_count": 5,
   "id": "bccba38e",
   "metadata": {},
   "outputs": [
    {
     "data": {
      "image/png": "[encoded data removed]",
      "text/plain": [
       "<Figure size 432x288 with 1 Axes>"
      ]
     },
     "metadata": {
      "needs_background": "light"
     },
     "output_type": "display_data"
    }
   ],
   "source": [
    "fig, ax = plt.subplots()\n",
    "#need to cast data as a numpy array for later.  \n",
    "#the plot works without doing this because the data is automatically converted to a \n",
    "#numpy array in matplotlib\n",
    "x = np.array(df.drop('BestEstimateTurnover',axis=1))   \n",
    "y = np.array(df['BestEstimateTurnover'])\n",
    "ax.set_xlabel('Employees')\n",
    "ax.set_ylabel('Turnover')\n",
    "ax.set_title('Employees against Turnover')\n",
    "ax.scatter(x, y)\n",
    "fig.savefig(PLOT1)"
   ]
  },
  {
   "cell_type": "markdown",
   "id": "8629292e",
   "metadata": {},
   "source": [
    "Use standard SKLEARN functionality to split the data into a test and training data set:"
   ]
  },
  {
   "cell_type": "code",
   "execution_count": 6,
   "id": "6d130210",
   "metadata": {},
   "outputs": [],
   "source": [
    "x_train, x_test, y_train, y_test = train_test_split(x, y, test_size = 0.5, shuffle = False)"
   ]
  },
  {
   "cell_type": "markdown",
   "id": "990f20e4",
   "metadata": {},
   "source": [
    "Create a linear regression model and train the model using the training sets:"
   ]
  },
  {
   "cell_type": "code",
   "execution_count": 7,
   "id": "64749be4",
   "metadata": {},
   "outputs": [
    {
     "data": {
      "text/plain": [
       "LinearRegression()"
      ]
     },
     "execution_count": 7,
     "metadata": {},
     "output_type": "execute_result"
    }
   ],
   "source": [
    "regr = linear_model.LinearRegression()\n",
    "regr.fit(x_train, y_train)"
   ]
  },
  {
   "cell_type": "markdown",
   "id": "2135efd0",
   "metadata": {},
   "source": [
    "Create a polynomial regression model and train the model using the training sets:"
   ]
  },
  {
   "cell_type": "code",
   "execution_count": 8,
   "id": "c6abd633",
   "metadata": {},
   "outputs": [
    {
     "data": {
      "text/plain": [
       "LinearRegression()"
      ]
     },
     "execution_count": 8,
     "metadata": {},
     "output_type": "execute_result"
    }
   ],
   "source": [
    "poly = PolynomialFeatures(degree=DEGREE, include_bias=False)\n",
    "poly_features = poly.fit_transform(x_train.reshape(-1, 1))\n",
    "poly_reg_model = linear_model.LinearRegression()\n",
    "poly_reg_model.fit(poly_features, y_train)"
   ]
  },
  {
   "cell_type": "markdown",
   "id": "fbbc1836",
   "metadata": {},
   "source": [
    "Make predictions using the testing set and assess accuracy of predictions:"
   ]
  },
  {
   "cell_type": "code",
   "execution_count": 9,
   "id": "9b9f5fd8",
   "metadata": {},
   "outputs": [
    {
     "name": "stdout",
     "output_type": "stream",
     "text": [
      "For the straight line\n",
      "The offset is -175,110 and the gradient of the slope is 79,697\n",
      "he coefficient of determination, a measure of the fit is: 0.93\n",
      "1 is a perfect prediction\n"
     ]
    }
   ],
   "source": [
    "y_pred = regr.predict(x_test)\n",
    "print('For the straight line')\n",
    "\n",
    "# The gradient and intercept of the slope.  Gradient is first item in coefficent list.\n",
    "gradient = regr.coef_[0]\n",
    "print(f'The offset is {regr.intercept_:,.0f} and the gradient of the slope is {gradient:,.0f}')\n",
    "\n",
    "# The coefficient of determination\n",
    "print(f'he coefficient of determination, a measure of the fit is: {r2_score(y_test, y_pred):.2f}')\n",
    "print('1 is a perfect prediction')"
   ]
  },
  {
   "cell_type": "code",
   "execution_count": 10,
   "id": "61e162ee",
   "metadata": {},
   "outputs": [
    {
     "name": "stdout",
     "output_type": "stream",
     "text": [
      "The coefficient of determination, a measure of the fit is: 0.79\n",
      "1 is a perfect prediction\n"
     ]
    }
   ],
   "source": [
    "y_poly_pred = poly_reg_model.predict(poly_features)\n",
    "\n",
    "# The coefficient of determination\n",
    "print(f'The coefficient of determination, a measure of the fit is: {r2_score(y_test, y_poly_pred):.2f}')\n",
    "print('1 is a perfect prediction')"
   ]
  },
  {
   "cell_type": "markdown",
   "id": "c7f4f7a6",
   "metadata": {},
   "source": [
    "Plot the calculated regression line against the test data: "
   ]
  },
  {
   "cell_type": "code",
   "execution_count": 11,
   "id": "87ec2fdd",
   "metadata": {},
   "outputs": [
    {
     "data": {
      "image/png": "[encoded data removed]",
      "text/plain": [
       "<Figure size 432x288 with 1 Axes>"
      ]
     },
     "metadata": {
      "needs_background": "light"
     },
     "output_type": "display_data"
    }
   ],
   "source": [
    "fig, ax = plt.subplots()\n",
    "ax.set_xlabel('Employees')\n",
    "ax.set_ylabel('Turnover')\n",
    "ax.set_title('Employees against Turnover')\n",
    "ax.scatter(x_test, y_test, color=\"black\")\n",
    "ax.scatter(x_train, y_train, color=\"red\")\n",
    "ax.scatter(x_test, y_pred, color=\"blue\")\n",
    "ax.scatter(x_test, y_poly_pred, color=\"green\")\n",
    "ax.legend(['Test data', 'Train data', 'Linear Prediction', 'Poly Prediction'])\n",
    "ax.plot(x_test, y_pred, color=\"blue\", linewidth=3)\n",
    "ax.plot(x_test, y_poly_pred, color=\"green\", linewidth=3)\n",
    "fig.savefig(PLOT2)"
   ]
  },
  {
   "cell_type": "code",
   "execution_count": null,
   "id": "5aa88a58",
   "metadata": {},
   "outputs": [],
   "source": []
  }
 ],
 "metadata": {
  "kernelspec": {
   "display_name": "Python 3 (ipykernel)",
   "language": "python",
   "name": "python3"
  },
  "language_info": {
   "codemirror_mode": {
    "name": "ipython",
    "version": 3
   },
   "file_extension": ".py",
   "mimetype": "text/x-python",
   "name": "python",
   "nbconvert_exporter": "python",
   "pygments_lexer": "ipython3",
   "version": "3.9.7"
  }
 },
 "nbformat": 4,
 "nbformat_minor": 5
}
