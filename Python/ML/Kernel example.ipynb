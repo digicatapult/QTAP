{
 "cells": [
  {
   "cell_type": "markdown",
   "id": "f45579d0",
   "metadata": {},
   "source": [
    "# Example showing the Kernel trick\n",
    "This example shows how the Kernel trick can be used to introduce a new dimension, in which a hyper-surface can separate the data."
   ]
  },
  {
   "cell_type": "markdown",
   "id": "ea2b3f50",
   "metadata": {},
   "source": [
    "Import required libraries."
   ]
  },
  {
   "cell_type": "code",
   "execution_count": 1,
   "id": "2008086e",
   "metadata": {},
   "outputs": [],
   "source": [
    "import pandas as pd\n",
    "import numpy as np\n",
    "import matplotlib.pyplot as plt\n",
    "from sklearn.model_selection import train_test_split\n",
    "from sklearn import svm"
   ]
  },
  {
   "cell_type": "markdown",
   "id": "95636720",
   "metadata": {},
   "source": [
    "Define constants."
   ]
  },
  {
   "cell_type": "code",
   "execution_count": 2,
   "id": "7db7ea9e",
   "metadata": {},
   "outputs": [],
   "source": [
    "SIZE = 10\n",
    "FILENAME = \"data/circles.csv\"\n",
    "PLOT1 = \"circles_2D\"\n",
    "PLOT2 = \"circles_3D\"\n",
    "PLOT3 = \"circles_SVM\""
   ]
  },
  {
   "cell_type": "markdown",
   "id": "ba0b7e0e",
   "metadata": {},
   "source": [
    "Import data"
   ]
  },
  {
   "cell_type": "code",
   "execution_count": 3,
   "id": "552a2928",
   "metadata": {},
   "outputs": [
    {
     "data": {
      "text/html": [
       "<div>\n",
       "<style scoped>\n",
       "    .dataframe tbody tr th:only-of-type {\n",
       "        vertical-align: middle;\n",
       "    }\n",
       "\n",
       "    .dataframe tbody tr th {\n",
       "        vertical-align: top;\n",
       "    }\n",
       "\n",
       "    .dataframe thead th {\n",
       "        text-align: right;\n",
       "    }\n",
       "</style>\n",
       "<table border=\"1\" class=\"dataframe\">\n",
       "  <thead>\n",
       "    <tr style=\"text-align: right;\">\n",
       "      <th></th>\n",
       "      <th>x</th>\n",
       "      <th>y</th>\n",
       "      <th>Class</th>\n",
       "    </tr>\n",
       "  </thead>\n",
       "  <tbody>\n",
       "    <tr>\n",
       "      <th>0</th>\n",
       "      <td>3.925084</td>\n",
       "      <td>-3.745313</td>\n",
       "      <td>1</td>\n",
       "    </tr>\n",
       "    <tr>\n",
       "      <th>1</th>\n",
       "      <td>-0.255449</td>\n",
       "      <td>-0.238221</td>\n",
       "      <td>-1</td>\n",
       "    </tr>\n",
       "    <tr>\n",
       "      <th>2</th>\n",
       "      <td>-3.669504</td>\n",
       "      <td>3.606631</td>\n",
       "      <td>1</td>\n",
       "    </tr>\n",
       "    <tr>\n",
       "      <th>3</th>\n",
       "      <td>-0.407401</td>\n",
       "      <td>0.980058</td>\n",
       "      <td>-1</td>\n",
       "    </tr>\n",
       "    <tr>\n",
       "      <th>4</th>\n",
       "      <td>5.033866</td>\n",
       "      <td>0.322856</td>\n",
       "      <td>1</td>\n",
       "    </tr>\n",
       "  </tbody>\n",
       "</table>\n",
       "</div>"
      ],
      "text/plain": [
       "          x         y  Class\n",
       "0  3.925084 -3.745313      1\n",
       "1 -0.255449 -0.238221     -1\n",
       "2 -3.669504  3.606631      1\n",
       "3 -0.407401  0.980058     -1\n",
       "4  5.033866  0.322856      1"
      ]
     },
     "execution_count": 3,
     "metadata": {},
     "output_type": "execute_result"
    }
   ],
   "source": [
    "df = pd.read_csv(FILENAME)\n",
    "df.head()"
   ]
  },
  {
   "cell_type": "markdown",
   "id": "0d8b8233",
   "metadata": {},
   "source": [
    "Define a new feature map:"
   ]
  },
  {
   "cell_type": "code",
   "execution_count": 4,
   "id": "8d2d5b9d",
   "metadata": {},
   "outputs": [],
   "source": [
    "def phi(x,y):\n",
    "    \"\"\"Function module to calculate kernel function.\n",
    "        \n",
    "    Parameter\n",
    "    ---------\n",
    "    x: array\n",
    "        First input\n",
    "    y: array\n",
    "        Second input\n",
    "    \n",
    "    Returns\n",
    "    -------\n",
    "    z: array\n",
    "        Kernel function\n",
    "        \n",
    "    Notes\n",
    "    -----\n",
    "    The function module works with Numpy arrays, single variables.\n",
    "    \"\"\"\n",
    "    z = .5*(x*x + y*y)\n",
    "    return(z)"
   ]
  },
  {
   "cell_type": "markdown",
   "id": "8cac8c5d",
   "metadata": {},
   "source": [
    "Split the data into test and training data:"
   ]
  },
  {
   "cell_type": "code",
   "execution_count": 5,
   "id": "0ccb8908",
   "metadata": {},
   "outputs": [],
   "source": [
    "X = df[['x','y']]\n",
    "Y = df['Class']\n",
    "x_train, x_test, y_train, y_test = train_test_split(X, Y, test_size = 0.5, shuffle = False)"
   ]
  },
  {
   "cell_type": "markdown",
   "id": "e17ce954",
   "metadata": {},
   "source": [
    "Prepare training data  for graphing."
   ]
  },
  {
   "cell_type": "code",
   "execution_count": 6,
   "id": "c14badee",
   "metadata": {},
   "outputs": [],
   "source": [
    "x = np.array(x_train['x'])\n",
    "y = np.array(x_train['y'])\n",
    "z = phi(x,y)\n",
    "col = np.where(y_train == 1, 'r', 'b')"
   ]
  },
  {
   "cell_type": "markdown",
   "id": "1c935b2f",
   "metadata": {},
   "source": [
    "Display two dimensional graph of training data."
   ]
  },
  {
   "cell_type": "code",
   "execution_count": 7,
   "id": "ae576d57",
   "metadata": {},
   "outputs": [
    {
     "data": {
      "image/png": "[encoded data removed]",
      "text/plain": [
       "<Figure size 432x288 with 1 Axes>"
      ]
     },
     "metadata": {
      "needs_background": "light"
     },
     "output_type": "display_data"
    }
   ],
   "source": [
    "fig, ax = plt.subplots()\n",
    "ax.set_xlabel('x')\n",
    "ax.set_ylabel('y')\n",
    "ax.set_title('Training data showing different classification in different colours')\n",
    "ax.scatter(x, y, s=SIZE, c = col )\n",
    "fig.savefig(PLOT1)"
   ]
  },
  {
   "cell_type": "markdown",
   "id": "e1112172",
   "metadata": {},
   "source": [
    "Display three dimensional graph of training data, with the new feature added."
   ]
  },
  {
   "cell_type": "code",
   "execution_count": 8,
   "id": "04e187a1",
   "metadata": {},
   "outputs": [
    {
     "data": {
      "image/png": "[encoded data removed]",
      "text/plain": [
       "<Figure size 432x288 with 1 Axes>"
      ]
     },
     "metadata": {
      "needs_background": "light"
     },
     "output_type": "display_data"
    }
   ],
   "source": [
    "fig2 = plt.figure()\n",
    "ax2 = fig2.add_subplot(projection='3d')\n",
    "ax.set_title('Training data after feature map')\n",
    "ax2.set_xlabel('x')\n",
    "ax2.set_ylabel('y')\n",
    "ax2.set_zlabel('z')\n",
    "ax2.set_title('3D plot')\n",
    "ax2.scatter(x, y, z, c = col )\n",
    "fig2.savefig(PLOT2)"
   ]
  },
  {
   "cell_type": "markdown",
   "id": "6cad9da2",
   "metadata": {},
   "source": [
    "Define a helper function to calculate the dot product after the feature map:"
   ]
  },
  {
   "cell_type": "code",
   "execution_count": 9,
   "id": "71492145",
   "metadata": {},
   "outputs": [],
   "source": [
    "def phi_dist(x1,x2):\n",
    "    \"\"\"Calculate dot product between two vectors\n",
    "        \n",
    "    Parameter\n",
    "    ---------\n",
    "    x1: array\n",
    "        First vector\n",
    "    x2: array\n",
    "        Second vector\n",
    "    \n",
    "    Returns\n",
    "    -------\n",
    "    dot : real\n",
    "        Dot product of two vectors after a feature map\n",
    "        \n",
    "    Notes\n",
    "    -----\n",
    "    The input is a two dimensional vector.  This is augmented with a third dimension using the feature \n",
    "    map, and a cross product of the new three dimensional vector is returned.\n",
    "    \"\"\"\n",
    "    x1_2 = phi(x1[0], x1[1])\n",
    "    x2_2 = phi(x2[0], x2[1])\n",
    "    dot=np.dot([x1[0], x1[1],  x1_2], [x2[0], x2[1], x2_2])\n",
    "    return(dot)"
   ]
  },
  {
   "cell_type": "markdown",
   "id": "e351b6d8",
   "metadata": {},
   "source": [
    "Define a kernel function by calculating the gram_matrix:"
   ]
  },
  {
   "cell_type": "code",
   "execution_count": 10,
   "id": "45afd800",
   "metadata": {},
   "outputs": [],
   "source": [
    "def my_kernel(X,Y):\n",
    "    \"\"\"Calculate the gram matrix based on two arrays\n",
    "        \n",
    "    Parameter\n",
    "    ---------\n",
    "    X: array\n",
    "        First input array\n",
    "    Y: array\n",
    "        Second input array\n",
    "    \n",
    "    Returns\n",
    "    -------\n",
    "    gram_matrix : array\n",
    "        Gram matrix\n",
    "        \n",
    "    Notes\n",
    "    -----\n",
    "    The input arrays contains two dimensions.  This is augmented with a third dimension using the feature \n",
    "    map, and the Gram matrix is constructed as the cross product of the new three dimensional vector is returned.\n",
    "    \"\"\"\n",
    "\n",
    "    gram_matrix = np.zeros((X.shape[0], Y.shape[0]))\n",
    "    for i, x1 in enumerate(X.values):\n",
    "        for j, x2 in enumerate(Y.values):\n",
    "            gram_matrix[i, j] = phi_dist(x1, x2)\n",
    "        \n",
    "    return gram_matrix    "
   ]
  },
  {
   "cell_type": "markdown",
   "id": "58f24749",
   "metadata": {},
   "source": [
    "Enable a SciKit Learn support vector classifier using the kernel function defined above."
   ]
  },
  {
   "cell_type": "code",
   "execution_count": 11,
   "id": "849515b6",
   "metadata": {},
   "outputs": [
    {
     "data": {
      "text/plain": [
       "SVC(kernel=<function my_kernel at 0x000002452163D790>)"
      ]
     },
     "execution_count": 11,
     "metadata": {},
     "output_type": "execute_result"
    }
   ],
   "source": [
    "clf = svm.SVC(kernel=my_kernel)\n",
    "clf.fit(x_train, y_train)"
   ]
  },
  {
   "cell_type": "markdown",
   "id": "3ba7de16",
   "metadata": {},
   "source": [
    "Use the support vector classifier to make a prediction:"
   ]
  },
  {
   "cell_type": "code",
   "execution_count": 12,
   "id": "6a5fd1f5",
   "metadata": {},
   "outputs": [],
   "source": [
    "y_pred = clf.predict(x_test)\n",
    "pred_colour= np.where(y_pred==1, 'r', 'b')\n",
    "train_colour= np.where(y_train==1, 'r', 'b')"
   ]
  },
  {
   "cell_type": "markdown",
   "id": "37ea1595",
   "metadata": {},
   "source": [
    "Plot out the separating hyperplane and the predicted results:"
   ]
  },
  {
   "cell_type": "code",
   "execution_count": 13,
   "id": "26b21d93",
   "metadata": {},
   "outputs": [
    {
     "data": {
      "image/png": "[encoded data removed]",
      "text/plain": [
       "<Figure size 432x288 with 1 Axes>"
      ]
     },
     "metadata": {
      "needs_background": "light"
     },
     "output_type": "display_data"
    }
   ],
   "source": [
    "plt.xlabel('x')\n",
    "plt.ylabel('y')\n",
    "plt.title('Predictions')\n",
    "plt.scatter(x_test['x'], x_test['y'], s=50, c=pred_colour, marker = '+')\n",
    "plt.savefig(PLOT3)\n",
    "plt.show()"
   ]
  },
  {
   "cell_type": "code",
   "execution_count": null,
   "id": "d359b905",
   "metadata": {},
   "outputs": [],
   "source": []
  }
 ],
 "metadata": {
  "kernelspec": {
   "display_name": "Python 3 (ipykernel)",
   "language": "python",
   "name": "python3"
  },
  "language_info": {
   "codemirror_mode": {
    "name": "ipython",
    "version": 3
   },
   "file_extension": ".py",
   "mimetype": "text/x-python",
   "name": "python",
   "nbconvert_exporter": "python",
   "pygments_lexer": "ipython3",
   "version": "3.9.12"
  }
 },
 "nbformat": 4,
 "nbformat_minor": 5
}
