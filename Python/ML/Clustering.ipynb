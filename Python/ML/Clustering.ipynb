{
 "cells": [
  {
   "cell_type": "markdown",
   "id": "cef631c9",
   "metadata": {},
   "source": [
    "Analysis of UK quantum companies\n",
    "==============================\n",
    "\n",
    "This workbook uses a simplied dataset to look at a simple clustering example.\n",
    "\n",
    "You will need to install [Folium](https://pypi.org/project/folium/) to execute this notebook."
   ]
  },
  {
   "cell_type": "markdown",
   "id": "baf32f57",
   "metadata": {},
   "source": [
    "Import the necessary libraries, including the mapping tool, Folium."
   ]
  },
  {
   "cell_type": "code",
   "execution_count": 1,
   "id": "54299398",
   "metadata": {},
   "outputs": [],
   "source": [
    "import pandas as pd\n",
    "import numpy as np\n",
    "import matplotlib.pyplot as plt\n",
    "\n",
    "from sklearn.cluster import KMeans\n",
    "\n",
    "import folium"
   ]
  },
  {
   "cell_type": "markdown",
   "id": "8c986c7b",
   "metadata": {},
   "source": [
    "Define constants used:"
   ]
  },
  {
   "cell_type": "code",
   "execution_count": 2,
   "id": "90642def",
   "metadata": {},
   "outputs": [],
   "source": [
    "FILENAME = 'data/company_data.csv'\n",
    "MAP_FILE = 'cluster_map.html'\n",
    "PLOT3 = 'clusters.png'\n",
    "NUMBER_OF_CLUSTERS = 10\n",
    "MAP_CENTRE = [54, -2]             #Centre of Folium map\n",
    "ZOOM_START = 5.5                  #Zoom for Folium map"
   ]
  },
  {
   "cell_type": "markdown",
   "id": "efa2b90e",
   "metadata": {},
   "source": [
    "Read the simplified data:"
   ]
  },
  {
   "cell_type": "code",
   "execution_count": 3,
   "id": "ec8ee89c",
   "metadata": {
    "scrolled": true
   },
   "outputs": [
    {
     "data": {
      "text/html": [
       "<div>\n",
       "<style scoped>\n",
       "    .dataframe tbody tr th:only-of-type {\n",
       "        vertical-align: middle;\n",
       "    }\n",
       "\n",
       "    .dataframe tbody tr th {\n",
       "        vertical-align: top;\n",
       "    }\n",
       "\n",
       "    .dataframe thead th {\n",
       "        text-align: right;\n",
       "    }\n",
       "</style>\n",
       "<table border=\"1\" class=\"dataframe\">\n",
       "  <thead>\n",
       "    <tr style=\"text-align: right;\">\n",
       "      <th></th>\n",
       "      <th>BestEstimateEmployees</th>\n",
       "      <th>BestEstimateTurnover</th>\n",
       "      <th>Latitude</th>\n",
       "      <th>Longitude</th>\n",
       "    </tr>\n",
       "  </thead>\n",
       "  <tbody>\n",
       "    <tr>\n",
       "      <th>0</th>\n",
       "      <td>27</td>\n",
       "      <td>3160000</td>\n",
       "      <td>50.39</td>\n",
       "      <td>-4.02</td>\n",
       "    </tr>\n",
       "    <tr>\n",
       "      <th>1</th>\n",
       "      <td>12</td>\n",
       "      <td>230000</td>\n",
       "      <td>50.44</td>\n",
       "      <td>-3.56</td>\n",
       "    </tr>\n",
       "    <tr>\n",
       "      <th>2</th>\n",
       "      <td>69</td>\n",
       "      <td>4799228</td>\n",
       "      <td>50.49</td>\n",
       "      <td>-3.55</td>\n",
       "    </tr>\n",
       "    <tr>\n",
       "      <th>3</th>\n",
       "      <td>4</td>\n",
       "      <td>1985000</td>\n",
       "      <td>50.53</td>\n",
       "      <td>-3.60</td>\n",
       "    </tr>\n",
       "    <tr>\n",
       "      <th>4</th>\n",
       "      <td>1</td>\n",
       "      <td>190000</td>\n",
       "      <td>50.55</td>\n",
       "      <td>-4.44</td>\n",
       "    </tr>\n",
       "  </tbody>\n",
       "</table>\n",
       "</div>"
      ],
      "text/plain": [
       "   BestEstimateEmployees  BestEstimateTurnover  Latitude  Longitude\n",
       "0                     27               3160000     50.39      -4.02\n",
       "1                     12                230000     50.44      -3.56\n",
       "2                     69               4799228     50.49      -3.55\n",
       "3                      4               1985000     50.53      -3.60\n",
       "4                      1                190000     50.55      -4.44"
      ]
     },
     "execution_count": 3,
     "metadata": {},
     "output_type": "execute_result"
    }
   ],
   "source": [
    "df = pd.read_csv(FILENAME)\n",
    "df.head()"
   ]
  },
  {
   "cell_type": "markdown",
   "id": "dcd379d9",
   "metadata": {},
   "source": [
    "Clean the data by dropping any NaN in Latitude or Longitude."
   ]
  },
  {
   "cell_type": "code",
   "execution_count": 4,
   "id": "905236b0",
   "metadata": {},
   "outputs": [],
   "source": [
    "df = df.dropna(subset={'Latitude', 'Longitude'})"
   ]
  },
  {
   "cell_type": "markdown",
   "id": "c682597b",
   "metadata": {},
   "source": [
    "Assign X variables."
   ]
  },
  {
   "cell_type": "code",
   "execution_count": 5,
   "id": "bd4f74da",
   "metadata": {},
   "outputs": [],
   "source": [
    "df['Longitude']=pd.to_numeric(df.Longitude)\n",
    "df['Latitude']=pd.to_numeric(df.Latitude)\n",
    "X = df[['Latitude', 'Longitude']] "
   ]
  },
  {
   "cell_type": "markdown",
   "id": "fd7c4970",
   "metadata": {},
   "source": [
    "Use KMeans clustering model as Model 1 to perform clustering:"
   ]
  },
  {
   "cell_type": "code",
   "execution_count": 6,
   "id": "1f919f3b",
   "metadata": {},
   "outputs": [
    {
     "data": {
      "text/plain": [
       "KMeans(n_clusters=10, random_state=0)"
      ]
     },
     "execution_count": 6,
     "metadata": {},
     "output_type": "execute_result"
    }
   ],
   "source": [
    "model = KMeans(n_clusters=NUMBER_OF_CLUSTERS, random_state=0)\n",
    "model.fit(X)"
   ]
  },
  {
   "cell_type": "code",
   "execution_count": 7,
   "id": "1866a3a4",
   "metadata": {},
   "outputs": [],
   "source": [
    "model_predict = model.predict(X)\n",
    "centroids = model.cluster_centers_"
   ]
  },
  {
   "cell_type": "markdown",
   "id": "59e1f31d",
   "metadata": {},
   "source": [
    "Plot out the data, with different colours based on the clusters found (which are stored in the list model_predict)."
   ]
  },
  {
   "cell_type": "code",
   "execution_count": 8,
   "id": "9f74e580",
   "metadata": {},
   "outputs": [
    {
     "data": {
      "image/png": "[encoded data removed]",
      "text/plain": [
       "<Figure size 432x288 with 1 Axes>"
      ]
     },
     "metadata": {
      "needs_background": "light"
     },
     "output_type": "display_data"
    }
   ],
   "source": [
    "fig, ax = plt.subplots()\n",
    "ax.set_xlabel('Longitude')\n",
    "ax.set_ylabel('Latitude')\n",
    "ax.set_title('Latitude against Longitude')\n",
    "ax.scatter(X['Longitude'],X['Latitude'], c=model_predict, cmap='rainbow')\n",
    "ax.scatter(centroids[:, 1], centroids[:, 0], c='black', marker=\"x\", s=200, alpha=1)\n",
    "fig.savefig(PLOT3)"
   ]
  },
  {
   "cell_type": "code",
   "execution_count": 9,
   "id": "f1141da9",
   "metadata": {},
   "outputs": [],
   "source": [
    "centroids_list = centroids.tolist()\n",
    "map = folium.Map(location=MAP_CENTRE, zoom_start=ZOOM_START)\n",
    "for items in centroids_list:\n",
    "    folium.Marker(items).add_to(map)"
   ]
  },
  {
   "cell_type": "code",
   "execution_count": 10,
   "id": "40f736dd",
   "metadata": {},
   "outputs": [
    {
     "data": {
      "text/html": [
       "<div style=\"width:100%;\"><div style=\"position:relative;width:100%;height:0;padding-bottom:60%;\"><span style=\"color:#565656\">Make this Notebook Trusted to load map: File -> Trust Notebook</span><iframe srcdoc=\"&lt;!DOCTYPE html&gt;\n",
       "&lt;head&gt;    \n",
       "    &lt;meta http-equiv=&quot;content-type&quot; content=&quot;text/html; charset=UTF-8&quot; /&gt;\n",
       "    \n",
       "        &lt;script&gt;\n",
       "            L_NO_TOUCH = false;\n",
       "            L_DISABLE_3D = false;\n",
       "        &lt;/script&gt;\n",
       "    \n",
       "    &lt;style&gt;html, body {width: 100%;height: 100%;margin: 0;padding: 0;}&lt;/style&gt;\n",
       "    &lt;style&gt;#map {position:absolute;top:0;bottom:0;right:0;left:0;}&lt;/style&gt;\n",
       "    &lt;script src=&quot;https://cdn.jsdelivr.net/npm/leaflet@1.6.0/dist/leaflet.js&quot;&gt;&lt;/script&gt;\n",
       "    &lt;script src=&quot;https://code.jquery.com/jquery-1.12.4.min.js&quot;&gt;&lt;/script&gt;\n",
       "    &lt;script src=&quot;https://maxcdn.bootstrapcdn.com/bootstrap/3.2.0/js/bootstrap.min.js&quot;&gt;&lt;/script&gt;\n",
       "    &lt;script src=&quot;https://cdnjs.cloudflare.com/ajax/libs/Leaflet.awesome-markers/2.0.2/leaflet.awesome-markers.js&quot;&gt;&lt;/script&gt;\n",
       "    &lt;link rel=&quot;stylesheet&quot; href=&quot;https://cdn.jsdelivr.net/npm/leaflet@1.6.0/dist/leaflet.css&quot;/&gt;\n",
       "    &lt;link rel=&quot;stylesheet&quot; href=&quot;https://maxcdn.bootstrapcdn.com/bootstrap/3.2.0/css/bootstrap.min.css&quot;/&gt;\n",
       "    &lt;link rel=&quot;stylesheet&quot; href=&quot;https://maxcdn.bootstrapcdn.com/bootstrap/3.2.0/css/bootstrap-theme.min.css&quot;/&gt;\n",
       "    &lt;link rel=&quot;stylesheet&quot; href=&quot;https://maxcdn.bootstrapcdn.com/font-awesome/4.6.3/css/font-awesome.min.css&quot;/&gt;\n",
       "    &lt;link rel=&quot;stylesheet&quot; href=&quot;https://cdnjs.cloudflare.com/ajax/libs/Leaflet.awesome-markers/2.0.2/leaflet.awesome-markers.css&quot;/&gt;\n",
       "    &lt;link rel=&quot;stylesheet&quot; href=&quot;https://cdn.jsdelivr.net/gh/python-visualization/folium/folium/templates/leaflet.awesome.rotate.min.css&quot;/&gt;\n",
       "    \n",
       "            &lt;meta name=&quot;viewport&quot; content=&quot;width=device-width,\n",
       "                initial-scale=1.0, maximum-scale=1.0, user-scalable=no&quot; /&gt;\n",
       "            &lt;style&gt;\n",
       "                #map_d02f38b3a2f5d3aeaab9493c1cf4f93f {\n",
       "                    position: relative;\n",
       "                    width: 100.0%;\n",
       "                    height: 100.0%;\n",
       "                    left: 0.0%;\n",
       "                    top: 0.0%;\n",
       "                }\n",
       "            &lt;/style&gt;\n",
       "        \n",
       "&lt;/head&gt;\n",
       "&lt;body&gt;    \n",
       "    \n",
       "            &lt;div class=&quot;folium-map&quot; id=&quot;map_d02f38b3a2f5d3aeaab9493c1cf4f93f&quot; &gt;&lt;/div&gt;\n",
       "        \n",
       "&lt;/body&gt;\n",
       "&lt;script&gt;    \n",
       "    \n",
       "            var map_d02f38b3a2f5d3aeaab9493c1cf4f93f = L.map(\n",
       "                &quot;map_d02f38b3a2f5d3aeaab9493c1cf4f93f&quot;,\n",
       "                {\n",
       "                    center: [54.0, -2.0],\n",
       "                    crs: L.CRS.EPSG3857,\n",
       "                    zoom: 5.5,\n",
       "                    zoomControl: true,\n",
       "                    preferCanvas: false,\n",
       "                }\n",
       "            );\n",
       "\n",
       "            \n",
       "\n",
       "        \n",
       "    \n",
       "            var tile_layer_4a5d7869bff24a6198b698743a9e5c94 = L.tileLayer(\n",
       "                &quot;https://{s}.tile.openstreetmap.org/{z}/{x}/{y}.png&quot;,\n",
       "                {&quot;attribution&quot;: &quot;Data by \\u0026copy; \\u003ca href=\\&quot;http://openstreetmap.org\\&quot;\\u003eOpenStreetMap\\u003c/a\\u003e, under \\u003ca href=\\&quot;http://www.openstreetmap.org/copyright\\&quot;\\u003eODbL\\u003c/a\\u003e.&quot;, &quot;detectRetina&quot;: false, &quot;maxNativeZoom&quot;: 18, &quot;maxZoom&quot;: 18, &quot;minZoom&quot;: 0, &quot;noWrap&quot;: false, &quot;opacity&quot;: 1, &quot;subdomains&quot;: &quot;abc&quot;, &quot;tms&quot;: false}\n",
       "            ).addTo(map_d02f38b3a2f5d3aeaab9493c1cf4f93f);\n",
       "        \n",
       "    \n",
       "            var marker_f4f11f8bec5e20c93a2b717f38cb3f76 = L.marker(\n",
       "                [52.440714285714286, -1.4216666666666666],\n",
       "                {}\n",
       "            ).addTo(map_d02f38b3a2f5d3aeaab9493c1cf4f93f);\n",
       "        \n",
       "    \n",
       "            var marker_c97abb07fc90efa0ccc1312d20c21825 = L.marker(\n",
       "                [51.43666666666667, -0.15793650793650849],\n",
       "                {}\n",
       "            ).addTo(map_d02f38b3a2f5d3aeaab9493c1cf4f93f);\n",
       "        \n",
       "    \n",
       "            var marker_df624b1e2df3dc776cff9c164a69dac3 = L.marker(\n",
       "                [55.93526315789474, -3.705263157894737],\n",
       "                {}\n",
       "            ).addTo(map_d02f38b3a2f5d3aeaab9493c1cf4f93f);\n",
       "        \n",
       "    \n",
       "            var marker_11ce3b3be2bcd96795d204a2678fd54d = L.marker(\n",
       "                [53.413823529411765, -2.362941176470588],\n",
       "                {}\n",
       "            ).addTo(map_d02f38b3a2f5d3aeaab9493c1cf4f93f);\n",
       "        \n",
       "    \n",
       "            var marker_fc8940e309e77fbc83ae7434dc460f0e = L.marker(\n",
       "                [51.04727272727273, -3.8681818181818173],\n",
       "                {}\n",
       "            ).addTo(map_d02f38b3a2f5d3aeaab9493c1cf4f93f);\n",
       "        \n",
       "    \n",
       "            var marker_57398694d6512bac7ab4661da41077b2 = L.marker(\n",
       "                [54.58, -5.94],\n",
       "                {}\n",
       "            ).addTo(map_d02f38b3a2f5d3aeaab9493c1cf4f93f);\n",
       "        \n",
       "    \n",
       "            var marker_8adaaea5dffea00676adda84ad171cc0 = L.marker(\n",
       "                [51.55571428571429, -1.1133928571428573],\n",
       "                {}\n",
       "            ).addTo(map_d02f38b3a2f5d3aeaab9493c1cf4f93f);\n",
       "        \n",
       "    \n",
       "            var marker_bacfac425d0a386b0ba22a6130ef2a77 = L.marker(\n",
       "                [52.08951219512195, 0.23097560975609732],\n",
       "                {}\n",
       "            ).addTo(map_d02f38b3a2f5d3aeaab9493c1cf4f93f);\n",
       "        \n",
       "    \n",
       "            var marker_7529ffa5c62dd8bb41e9308d65d12bcc = L.marker(\n",
       "                [54.385, -1.303125],\n",
       "                {}\n",
       "            ).addTo(map_d02f38b3a2f5d3aeaab9493c1cf4f93f);\n",
       "        \n",
       "    \n",
       "            var marker_a2e783a05ff858fd7e912b0ff18dcc2c = L.marker(\n",
       "                [51.611724137931034, -2.601724137931035],\n",
       "                {}\n",
       "            ).addTo(map_d02f38b3a2f5d3aeaab9493c1cf4f93f);\n",
       "        \n",
       "&lt;/script&gt;\" style=\"position:absolute;width:100%;height:100%;left:0;top:0;border:none !important;\" allowfullscreen webkitallowfullscreen mozallowfullscreen></iframe></div></div>"
      ],
      "text/plain": [
       "<folium.folium.Map at 0x1d14a04cfa0>"
      ]
     },
     "execution_count": 10,
     "metadata": {},
     "output_type": "execute_result"
    }
   ],
   "source": [
    "map"
   ]
  },
  {
   "cell_type": "code",
   "execution_count": 11,
   "id": "ad339c5c",
   "metadata": {},
   "outputs": [],
   "source": [
    "map.save(MAP_FILE)"
   ]
  }
 ],
 "metadata": {
  "kernelspec": {
   "display_name": "Python 3 (ipykernel)",
   "language": "python",
   "name": "python3"
  },
  "language_info": {
   "codemirror_mode": {
    "name": "ipython",
    "version": 3
   },
   "file_extension": ".py",
   "mimetype": "text/x-python",
   "name": "python",
   "nbconvert_exporter": "python",
   "pygments_lexer": "ipython3",
   "version": "3.9.12"
  }
 },
 "nbformat": 4,
 "nbformat_minor": 5
}
