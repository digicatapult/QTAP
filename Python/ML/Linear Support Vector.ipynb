{
 "cells": [
  {
   "cell_type": "markdown",
   "id": "5162442a",
   "metadata": {},
   "source": [
    "# Linear support vector classifier\n",
    "This example is based on a [SciKit Learn Support Vector machine example](https://scikit-learn.org/stable/auto_examples/svm/plot_svm_kernels.html#sphx-glr-auto-examples-svm-plot-svm-kernels-py).\n",
    "\n",
    "The example shows how SciKit Learn can be used to produce a hyper-plane (in this case a line) to separate the points, so unseen data can be classified.  "
   ]
  },
  {
   "cell_type": "markdown",
   "id": "7bfc4592",
   "metadata": {},
   "source": [
    "Import required libraries:"
   ]
  },
  {
   "cell_type": "code",
   "execution_count": 1,
   "id": "8a3adf87",
   "metadata": {},
   "outputs": [],
   "source": [
    "import pandas as pd\n",
    "import numpy as np\n",
    "import matplotlib.pyplot as plt\n",
    "from sklearn.model_selection import train_test_split\n",
    "from sklearn import svm"
   ]
  },
  {
   "cell_type": "markdown",
   "id": "dcac3ee0",
   "metadata": {},
   "source": [
    "Define constants:"
   ]
  },
  {
   "cell_type": "code",
   "execution_count": 2,
   "id": "1d93e574",
   "metadata": {},
   "outputs": [],
   "source": [
    "FILENAME = \"data/groups.csv\"\n",
    "PLOT1 = \"groups1.png\"\n",
    "PLOT2 = \"groups2.png\""
   ]
  },
  {
   "cell_type": "markdown",
   "id": "f04368c5",
   "metadata": {},
   "source": [
    "Import data:"
   ]
  },
  {
   "cell_type": "code",
   "execution_count": 3,
   "id": "9cc0f0e2",
   "metadata": {},
   "outputs": [
    {
     "data": {
      "text/html": [
       "<div>\n",
       "<style scoped>\n",
       "    .dataframe tbody tr th:only-of-type {\n",
       "        vertical-align: middle;\n",
       "    }\n",
       "\n",
       "    .dataframe tbody tr th {\n",
       "        vertical-align: top;\n",
       "    }\n",
       "\n",
       "    .dataframe thead th {\n",
       "        text-align: right;\n",
       "    }\n",
       "</style>\n",
       "<table border=\"1\" class=\"dataframe\">\n",
       "  <thead>\n",
       "    <tr style=\"text-align: right;\">\n",
       "      <th></th>\n",
       "      <th>x</th>\n",
       "      <th>y</th>\n",
       "      <th>Class</th>\n",
       "    </tr>\n",
       "  </thead>\n",
       "  <tbody>\n",
       "    <tr>\n",
       "      <th>0</th>\n",
       "      <td>5.746683</td>\n",
       "      <td>5.395577</td>\n",
       "      <td>1</td>\n",
       "    </tr>\n",
       "    <tr>\n",
       "      <th>1</th>\n",
       "      <td>1.556187</td>\n",
       "      <td>1.200949</td>\n",
       "      <td>-1</td>\n",
       "    </tr>\n",
       "    <tr>\n",
       "      <th>2</th>\n",
       "      <td>6.215464</td>\n",
       "      <td>6.065553</td>\n",
       "      <td>1</td>\n",
       "    </tr>\n",
       "    <tr>\n",
       "      <th>3</th>\n",
       "      <td>1.025627</td>\n",
       "      <td>1.815120</td>\n",
       "      <td>-1</td>\n",
       "    </tr>\n",
       "    <tr>\n",
       "      <th>4</th>\n",
       "      <td>5.829460</td>\n",
       "      <td>5.805741</td>\n",
       "      <td>1</td>\n",
       "    </tr>\n",
       "  </tbody>\n",
       "</table>\n",
       "</div>"
      ],
      "text/plain": [
       "          x         y  Class\n",
       "0  5.746683  5.395577      1\n",
       "1  1.556187  1.200949     -1\n",
       "2  6.215464  6.065553      1\n",
       "3  1.025627  1.815120     -1\n",
       "4  5.829460  5.805741      1"
      ]
     },
     "execution_count": 3,
     "metadata": {},
     "output_type": "execute_result"
    }
   ],
   "source": [
    "df = pd.read_csv(FILENAME)\n",
    "df.head()"
   ]
  },
  {
   "cell_type": "markdown",
   "id": "35651ea0",
   "metadata": {},
   "source": [
    "Define relevant features and labels:"
   ]
  },
  {
   "cell_type": "code",
   "execution_count": 4,
   "id": "de3ce394",
   "metadata": {},
   "outputs": [],
   "source": [
    "X = df[['x','y']]\n",
    "Y = df['Class']"
   ]
  },
  {
   "cell_type": "markdown",
   "id": "fe27afd1",
   "metadata": {},
   "source": [
    "Split the data into test and training data, and mark the training data with a colour."
   ]
  },
  {
   "cell_type": "code",
   "execution_count": 5,
   "id": "de4c61b6",
   "metadata": {},
   "outputs": [],
   "source": [
    "x_train, x_test, y_train, y_test = train_test_split(X, Y, test_size = 0.5, shuffle = True)\n",
    "train_colour= np.where(y_train==1, 'r', 'b')"
   ]
  },
  {
   "cell_type": "markdown",
   "id": "0a8c713d",
   "metadata": {},
   "source": [
    "Plot the training data:"
   ]
  },
  {
   "cell_type": "code",
   "execution_count": 6,
   "id": "2429f9d2",
   "metadata": {},
   "outputs": [
    {
     "data": {
      "image/png": "[encoded data removed]",
      "text/plain": [
       "<Figure size 432x288 with 1 Axes>"
      ]
     },
     "metadata": {
      "needs_background": "light"
     },
     "output_type": "display_data"
    }
   ],
   "source": [
    "plt.xlabel('x')\n",
    "plt.ylabel('y')\n",
    "plt.title('Training data')\n",
    "plt.scatter(x_train['x'], x_train['y'], s=50, c=train_colour, marker = '.')\n",
    "\n",
    "plt.savefig(PLOT1)\n",
    "plt.show()"
   ]
  },
  {
   "cell_type": "markdown",
   "id": "958eb564",
   "metadata": {},
   "source": [
    "Use SciKit Learn to set up the kernel model:"
   ]
  },
  {
   "cell_type": "code",
   "execution_count": 7,
   "id": "daf21157",
   "metadata": {},
   "outputs": [
    {
     "data": {
      "text/plain": [
       "SVC(gamma=2, kernel='linear')"
      ]
     },
     "execution_count": 7,
     "metadata": {},
     "output_type": "execute_result"
    }
   ],
   "source": [
    "clf = svm.SVC(kernel=\"linear\", gamma=2)\n",
    "clf.fit(x_train, y_train)"
   ]
  },
  {
   "cell_type": "markdown",
   "id": "ec309cf3",
   "metadata": {},
   "source": [
    "Use the support vector to make a prediction:"
   ]
  },
  {
   "cell_type": "code",
   "execution_count": 8,
   "id": "f7dcc103",
   "metadata": {},
   "outputs": [],
   "source": [
    "y_pred = clf.predict(x_test)\n",
    "pred_colour= np.where(y_pred==1, 'r', 'b')"
   ]
  },
  {
   "cell_type": "markdown",
   "id": "5e408132",
   "metadata": {},
   "source": [
    "Plot out the separating hyperplane and the predicted results:"
   ]
  },
  {
   "cell_type": "code",
   "execution_count": 9,
   "id": "3b43dcc2",
   "metadata": {},
   "outputs": [
    {
     "data": {
      "image/png": "[encoded data removed]",
      "text/plain": [
       "<Figure size 432x288 with 1 Axes>"
      ]
     },
     "metadata": {
      "needs_background": "light"
     },
     "output_type": "display_data"
    }
   ],
   "source": [
    "plt.xlabel('x')\n",
    "plt.ylabel('y')\n",
    "plt.title('Predictions made')\n",
    "plt.scatter(x_test['x'], x_test['y'], s=50, c=pred_colour, marker = '+'  )\n",
    "# get the separating hyperplane\n",
    "w = clf.coef_[0]\n",
    "a = -w[0] / w[1]\n",
    "xx = np.linspace(0, 7)\n",
    "yy = a * xx - (clf.intercept_[0]) / w[1]\n",
    "\n",
    "# plot the parallels to the separating hyperplane that pass through the\n",
    "# support vectors (margin away from hyperplane in direction\n",
    "# perpendicular to hyperplane). This is sqrt(1+a^2) away vertically in\n",
    "# 2-d.\n",
    "margin = 1 / np.sqrt(np.sum(clf.coef_**2))\n",
    "yy_down = yy - np.sqrt(1 + a**2) * margin\n",
    "yy_up = yy + np.sqrt(1 + a**2) * margin\n",
    "\n",
    "# plot the line, the points, and the nearest vectors to the plane\n",
    "plt.plot(xx, yy, \"k-\")\n",
    "plt.plot(xx, yy_down, \"k--\")\n",
    "plt.plot(xx, yy_up, \"k--\")\n",
    "plt.savefig(PLOT2)\n",
    "plt.show()"
   ]
  }
 ],
 "metadata": {
  "kernelspec": {
   "display_name": "Python 3 (ipykernel)",
   "language": "python",
   "name": "python3"
  },
  "language_info": {
   "codemirror_mode": {
    "name": "ipython",
    "version": 3
   },
   "file_extension": ".py",
   "mimetype": "text/x-python",
   "name": "python",
   "nbconvert_exporter": "python",
   "pygments_lexer": "ipython3",
   "version": "3.9.12"
  }
 },
 "nbformat": 4,
 "nbformat_minor": 5
}
