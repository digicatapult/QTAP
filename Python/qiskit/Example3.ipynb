{
 "cells": [
  {
   "cell_type": "markdown",
   "id": "3668aac6",
   "metadata": {},
   "source": [
    "# Qiskit Example 3\n",
    "\n",
    "This is an example of how to build a quantum circuit in qiskit and produce a QASM file from that circuit.\n",
    "\n",
    "QASM originated as a language for formally defining a quantum circuit to render images for visualization purposes. As quantum computation evolved, the language was adopted as a way to specify quantum circuits as input to a quantum computer [1].\n",
    "\n",
    "1.  Source [Quantum Inspire by QTECH](https://www.quantum-inspire.com/kbase/cqasm/)"
   ]
  },
  {
   "cell_type": "markdown",
   "id": "71c49573",
   "metadata": {},
   "source": [
    "## Step 1 : Import Packages and define constants\n",
    "qasm is part of the QuantumCircuit component of the qiskit library."
   ]
  },
  {
   "cell_type": "code",
   "execution_count": 1,
   "id": "9b65772c",
   "metadata": {},
   "outputs": [],
   "source": [
    "import numpy as np\n",
    "from qiskit import QuantumCircuit\n",
    "OUT_FILE = \"qasmex3.qasm\"   #controls where the qasm file is placed."
   ]
  },
  {
   "cell_type": "markdown",
   "id": "63230d9c",
   "metadata": {},
   "source": [
    "## Step 2 : Initialize Variables\n",
    "This example shows a simple circuit with two qubits and two classical bits."
   ]
  },
  {
   "cell_type": "code",
   "execution_count": 2,
   "id": "af1db5aa",
   "metadata": {},
   "outputs": [],
   "source": [
    "qc = QuantumCircuit(2, 2)"
   ]
  },
  {
   "cell_type": "markdown",
   "id": "d2544df7",
   "metadata": {},
   "source": [
    "## Step 3 : Add Gates\n",
    "Construct a simple circuit building on the Bell pair and measure the result.  Draw the circuit."
   ]
  },
  {
   "cell_type": "code",
   "execution_count": 3,
   "id": "49124c5f",
   "metadata": {},
   "outputs": [
    {
     "data": {
      "image/png": "[encoded data removed]",
      "text/plain": [
       "<Figure size 663.998x367.889 with 1 Axes>"
      ]
     },
     "execution_count": 3,
     "metadata": {},
     "output_type": "execute_result"
    }
   ],
   "source": [
    "# Change this code to add our own gates, eg qc.x(n)  qc.z(n)\n",
    "qc.h(0)\n",
    "qc.cx(0, 1)\n",
    "#add your code here\n",
    "qc.x(0)\n",
    "qc.z(1)\n",
    "# end of your code\n",
    "qc.measure_all()\n",
    "qc.draw('mpl')"
   ]
  },
  {
   "cell_type": "markdown",
   "id": "0dce6d6b",
   "metadata": {},
   "source": [
    "## Step 4:  Print and output in QASM format\n",
    "We are now ready to print the circuit in QASM format and output a QASM file."
   ]
  },
  {
   "cell_type": "code",
   "execution_count": 4,
   "id": "f8824257",
   "metadata": {},
   "outputs": [
    {
     "name": "stdout",
     "output_type": "stream",
     "text": [
      "\u001b[92mOPENQASM\u001b[39m \u001b[96m2\u001b[39m.\u001b[96m0\u001b[39m;\n",
      "\u001b[92minclude\u001b[39m\u001b[91m \"qelib1.inc\"\u001b[39m;\n",
      "\u001b[92mqreg\u001b[39m q[\u001b[96m2\u001b[39m];\n",
      "\u001b[92mcreg\u001b[39m c[\u001b[96m2\u001b[39m];\n",
      "\u001b[92mcreg\u001b[39m meas[\u001b[96m2\u001b[39m];\n",
      "\u001b[95mh\u001b[39m q[\u001b[96m0\u001b[39m];\n",
      "\u001b[95mcx\u001b[39m q[\u001b[96m0\u001b[39m],q[\u001b[96m1\u001b[39m];\n",
      "\u001b[95mx\u001b[39m q[\u001b[96m0\u001b[39m];\n",
      "\u001b[95mz\u001b[39m q[\u001b[96m1\u001b[39m];\n",
      "\u001b[94mbarrier\u001b[39m q[\u001b[96m0\u001b[39m],q[\u001b[96m1\u001b[39m];\n",
      "\u001b[94mmeasure\u001b[39m q[\u001b[96m0\u001b[39m] -> meas[\u001b[96m0\u001b[39m];\n",
      "\u001b[94mmeasure\u001b[39m q[\u001b[96m1\u001b[39m] -> meas[\u001b[96m1\u001b[39m];\n",
      "\n",
      "None\n"
     ]
    }
   ],
   "source": [
    "print(qc.qasm(formatted=True, filename=OUT_FILE))"
   ]
  }
 ],
 "metadata": {
  "kernelspec": {
   "display_name": "Python 3 (ipykernel)",
   "language": "python",
   "name": "python3"
  },
  "language_info": {
   "codemirror_mode": {
    "name": "ipython",
    "version": 3
   },
   "file_extension": ".py",
   "mimetype": "text/x-python",
   "name": "python",
   "nbconvert_exporter": "python",
   "pygments_lexer": "ipython3",
   "version": "3.11.4"
  }
 },
 "nbformat": 4,
 "nbformat_minor": 5
}
