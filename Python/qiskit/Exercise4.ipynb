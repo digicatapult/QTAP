{
 "cells": [
  {
   "cell_type": "markdown",
   "id": "3668aac6",
   "metadata": {},
   "source": [
    "# Qiskit Exercise 4\n",
    "\n",
    "This is an example of how to load a quantum circuit defined in a QASM file into qiskit."
   ]
  },
  {
   "cell_type": "markdown",
   "id": "71c49573",
   "metadata": {},
   "source": [
    "## Step 1 : Import Packages and define constants\n",
    "QASKM is part of the QuantumCircuit component of the qiskit library.\n",
    "We need the QasmSimulator to simulate the file."
   ]
  },
  {
   "cell_type": "code",
   "execution_count": 1,
   "id": "9b65772c",
   "metadata": {},
   "outputs": [],
   "source": [
    "import numpy as np\n",
    "from qiskit import QuantumCircuit\n",
    "from qiskit.providers.aer import QasmSimulator\n",
    "#  add your code here to load the file\n",
    "#IN_FILE = \"my_input_file.qasm\"   #controls where the qasm file is placed."
   ]
  },
  {
   "cell_type": "markdown",
   "id": "63230d9c",
   "metadata": {},
   "source": [
    "## Step 2 : Read in the QASM file\n",
    "We read the file from our local storage."
   ]
  },
  {
   "cell_type": "code",
   "execution_count": 2,
   "id": "af1db5aa",
   "metadata": {},
   "outputs": [],
   "source": [
    "qc = QuantumCircuit.from_qasm_file(IN_FILE)"
   ]
  },
  {
   "cell_type": "markdown",
   "id": "d2544df7",
   "metadata": {},
   "source": [
    "## Step 3 : Draw the file\n",
    "Construct a simple circuit building on the Bell pair and measure the result.  Draw the circuit."
   ]
  },
  {
   "cell_type": "code",
   "execution_count": 3,
   "id": "49124c5f",
   "metadata": {},
   "outputs": [
    {
     "data": {
      "image/png": "[encoded data removed]",
      "text/plain": [
       "<Figure size 747.609x451.5 with 1 Axes>"
      ]
     },
     "execution_count": 3,
     "metadata": {},
     "output_type": "execute_result"
    }
   ],
   "source": [
    "qc.draw('mpl')"
   ]
  },
  {
   "cell_type": "markdown",
   "id": "e2343f7c",
   "metadata": {},
   "source": [
    "##Step 4: Print out the QASM from the file"
   ]
  },
  {
   "cell_type": "code",
   "execution_count": 4,
   "id": "f8824257",
   "metadata": {},
   "outputs": [
    {
     "name": "stdout",
     "output_type": "stream",
     "text": [
      "\u001b[92mOPENQASM\u001b[39m \u001b[96m2\u001b[39m.\u001b[96m0\u001b[39m;\n",
      "\u001b[92minclude\u001b[39m\u001b[91m \"qelib1.inc\"\u001b[39m;\n",
      "\u001b[92mqreg\u001b[39m q[\u001b[96m3\u001b[39m];\n",
      "\u001b[92mcreg\u001b[39m c[\u001b[96m3\u001b[39m];\n",
      "\u001b[92mcreg\u001b[39m meas[\u001b[96m3\u001b[39m];\n",
      "\u001b[95mh\u001b[39m q[\u001b[96m0\u001b[39m];\n",
      "\u001b[95mcx\u001b[39m q[\u001b[96m0\u001b[39m],q[\u001b[96m1\u001b[39m];\n",
      "\u001b[95mcx\u001b[39m q[\u001b[96m0\u001b[39m],q[\u001b[96m2\u001b[39m];\n",
      "\u001b[94mbarrier\u001b[39m q[\u001b[96m0\u001b[39m],q[\u001b[96m1\u001b[39m],q[\u001b[96m2\u001b[39m];\n",
      "\u001b[94mmeasure\u001b[39m q[\u001b[96m0\u001b[39m] -> meas[\u001b[96m0\u001b[39m];\n",
      "\u001b[94mmeasure\u001b[39m q[\u001b[96m1\u001b[39m] -> meas[\u001b[96m1\u001b[39m];\n",
      "\u001b[94mmeasure\u001b[39m q[\u001b[96m2\u001b[39m] -> meas[\u001b[96m2\u001b[39m];\n",
      "\n",
      "None\n"
     ]
    }
   ],
   "source": [
    "print(qc.qasm(formatted=True))"
   ]
  },
  {
   "cell_type": "markdown",
   "id": "af57514b",
   "metadata": {},
   "source": [
    "## Step 4 - simulate the file"
   ]
  },
  {
   "cell_type": "code",
   "execution_count": 5,
   "id": "d0491dbe",
   "metadata": {},
   "outputs": [
    {
     "name": "stdout",
     "output_type": "stream",
     "text": [
      "\n",
      "Total count for 000 and 111 are: {'111 000': 520, '000 000': 480}\n"
     ]
    }
   ],
   "source": [
    "simulator = QasmSimulator()\n",
    "job = simulator.run(qc, shots=1000)\n",
    "result = job.result()\n",
    "counts = result.get_counts(qc)\n",
    "# add some code to print out the results\n",
    "print(\"\\nTotal count for 000 and 111 are:\",counts)"
   ]
  }
 ],
 "metadata": {
  "kernelspec": {
   "display_name": "Python 3 (ipykernel)",
   "language": "python",
   "name": "python3"
  },
  "language_info": {
   "codemirror_mode": {
    "name": "ipython",
    "version": 3
   },
   "file_extension": ".py",
   "mimetype": "text/x-python",
   "name": "python",
   "nbconvert_exporter": "python",
   "pygments_lexer": "ipython3",
   "version": "3.11.4"
  }
 },
 "nbformat": 4,
 "nbformat_minor": 5
}
