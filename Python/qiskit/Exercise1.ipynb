{
 "cells": [
  {
   "cell_type": "markdown",
   "id": "3668aac6",
   "metadata": {},
   "source": [
    "# Qiskit Exercise 1\n",
    "\n",
    "This workbook is Exercise 1 of the Qiskit training. It is copied from the [Qiskit introductory tutorial](https://qiskit.org/documentation/stable/0.28/intro_tutorial1.html). "
   ]
  },
  {
   "cell_type": "markdown",
   "id": "71c49573",
   "metadata": {},
   "source": [
    "## Step 1 : Import Packages\n"
   ]
  },
  {
   "cell_type": "code",
   "execution_count": 1,
   "id": "9b65772c",
   "metadata": {},
   "outputs": [],
   "source": [
    "import numpy as np\n",
    "from qiskit import QuantumCircuit, transpile\n",
    "from qiskit.providers.aer import QasmSimulator\n",
    "from qiskit.visualization import plot_histogram"
   ]
  },
  {
   "cell_type": "markdown",
   "id": "ed1d2571",
   "metadata": {},
   "source": [
    "## Step 2 : Initialize Variables\n",
    "Initialize two qubits and two classical bits."
   ]
  },
  {
   "cell_type": "code",
   "execution_count": 2,
   "id": "c881d8e3",
   "metadata": {},
   "outputs": [],
   "source": [
    "# Add your code here"
   ]
  },
  {
   "cell_type": "markdown",
   "id": "742f239e",
   "metadata": {},
   "source": [
    "## Step 3 : Add Gates\n",
    "Construct a Bell state by setting up a Hadamard and a CX gate and measure the result."
   ]
  },
  {
   "cell_type": "code",
   "execution_count": 3,
   "id": "5c0d1798",
   "metadata": {},
   "outputs": [],
   "source": [
    "# Add your code here"
   ]
  },
  {
   "cell_type": "markdown",
   "id": "9e2df6da",
   "metadata": {},
   "source": [
    "## Step 4 : Visualize the Circuit\n",
    "View the circuit that you have built."
   ]
  },
  {
   "cell_type": "code",
   "execution_count": 4,
   "id": "b78f5c39",
   "metadata": {},
   "outputs": [],
   "source": [
    "# Add your code here"
   ]
  },
  {
   "cell_type": "markdown",
   "id": "82c8108b",
   "metadata": {},
   "source": [
    "## Step 5 : Simulate the Experiment\n",
    "Simulate the circuit and print out the results."
   ]
  },
  {
   "cell_type": "code",
   "execution_count": 5,
   "id": "48c3bcff",
   "metadata": {},
   "outputs": [],
   "source": [
    "# Add your code here"
   ]
  },
  {
   "cell_type": "markdown",
   "id": "6d2d1430",
   "metadata": {},
   "source": [
    "## Step 6 : Visualize the Results\n",
    "Plot a histogram to visualise the results"
   ]
  },
  {
   "cell_type": "code",
   "execution_count": 6,
   "id": "5adecf1a",
   "metadata": {},
   "outputs": [],
   "source": [
    "# Add your code here"
   ]
  }
 ],
 "metadata": {
  "kernelspec": {
   "display_name": "Python 3 (ipykernel)",
   "language": "python",
   "name": "python3"
  },
  "language_info": {
   "codemirror_mode": {
    "name": "ipython",
    "version": 3
   },
   "file_extension": ".py",
   "mimetype": "text/x-python",
   "name": "python",
   "nbconvert_exporter": "python",
   "pygments_lexer": "ipython3",
   "version": "3.10.4"
  }
 },
 "nbformat": 4,
 "nbformat_minor": 5
}
