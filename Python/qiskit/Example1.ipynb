{
 "cells": [
  {
   "cell_type": "markdown",
   "id": "3668aac6",
   "metadata": {},
   "source": [
    "# Qiskit Example\n",
    "\n",
    "This workbook is an introductory example to Qiskit that can be used for testing the installation.  It is copied from the [Qiskit introductory tutorial](https://qiskit.org/documentation/stable/0.28/intro_tutorial1.html)"
   ]
  },
  {
   "cell_type": "markdown",
   "id": "71c49573",
   "metadata": {},
   "source": [
    "## Step 1 : Import Packages\n"
   ]
  },
  {
   "cell_type": "code",
   "execution_count": 1,
   "id": "9b65772c",
   "metadata": {},
   "outputs": [],
   "source": [
    "import numpy as np\n",
    "from qiskit import QuantumCircuit, transpile\n",
    "from qiskit.providers.aer import QasmSimulator\n",
    "from qiskit.visualization import plot_histogram"
   ]
  },
  {
   "cell_type": "markdown",
   "id": "63230d9c",
   "metadata": {},
   "source": [
    "## Step 2 : Initialize Variables\n",
    "Initialize two qubits and two classical bits."
   ]
  },
  {
   "cell_type": "code",
   "execution_count": 2,
   "id": "af1db5aa",
   "metadata": {},
   "outputs": [],
   "source": [
    "circuit = QuantumCircuit(2, 2)"
   ]
  },
  {
   "cell_type": "markdown",
   "id": "d2544df7",
   "metadata": {},
   "source": [
    "## Step 3 : Add Gates\n",
    "Construct a Bell state by setting up a Hadamard and a CX gate and measure the result."
   ]
  },
  {
   "cell_type": "code",
   "execution_count": 3,
   "id": "49124c5f",
   "metadata": {},
   "outputs": [
    {
     "data": {
      "text/plain": [
       "<qiskit.circuit.instructionset.InstructionSet at 0x19e7f7bd2a0>"
      ]
     },
     "execution_count": 3,
     "metadata": {},
     "output_type": "execute_result"
    }
   ],
   "source": [
    "circuit.h(0)\n",
    "circuit.cx(0, 1)\n",
    "circuit.measure([0,1], [0,1])"
   ]
  },
  {
   "cell_type": "markdown",
   "id": "110ec72f",
   "metadata": {},
   "source": [
    "## Step 4 : Visualize the Circuit\n",
    "View the circuit that you have built."
   ]
  },
  {
   "cell_type": "code",
   "execution_count": 4,
   "id": "c384b249",
   "metadata": {},
   "outputs": [
    {
     "data": {
      "text/html": [
       "<pre style=\"word-wrap: normal;white-space: pre;background: #fff0;line-height: 1.1;font-family: &quot;Courier New&quot;,Courier,monospace\">     ┌───┐     ┌─┐   \n",
       "q_0: ┤ H ├──■──┤M├───\n",
       "     └───┘┌─┴─┐└╥┘┌─┐\n",
       "q_1: ─────┤ X ├─╫─┤M├\n",
       "          └───┘ ║ └╥┘\n",
       "c: 2/═══════════╩══╩═\n",
       "                0  1 </pre>"
      ],
      "text/plain": [
       "     ┌───┐     ┌─┐   \n",
       "q_0: ┤ H ├──■──┤M├───\n",
       "     └───┘┌─┴─┐└╥┘┌─┐\n",
       "q_1: ─────┤ X ├─╫─┤M├\n",
       "          └───┘ ║ └╥┘\n",
       "c: 2/═══════════╩══╩═\n",
       "                0  1 "
      ]
     },
     "execution_count": 4,
     "metadata": {},
     "output_type": "execute_result"
    }
   ],
   "source": [
    "circuit.draw()"
   ]
  },
  {
   "cell_type": "markdown",
   "id": "8d810324",
   "metadata": {},
   "source": [
    "## Step 5 : Simulate the Experiment\n",
    "Simulate the circuit and print out the results."
   ]
  },
  {
   "cell_type": "code",
   "execution_count": 5,
   "id": "bd197a7f",
   "metadata": {},
   "outputs": [
    {
     "name": "stdout",
     "output_type": "stream",
     "text": [
      "\n",
      "Total count for 00 and 11 are: {'11': 511, '00': 489}\n"
     ]
    }
   ],
   "source": [
    "simulator = QasmSimulator()\n",
    "compiled_circuit = transpile(circuit, simulator)\n",
    "job = simulator.run(compiled_circuit, shots=1000)\n",
    "result = job.result()\n",
    "counts = result.get_counts(circuit)\n",
    "print(\"\\nTotal count for 00 and 11 are:\",counts)"
   ]
  },
  {
   "cell_type": "markdown",
   "id": "565c8599",
   "metadata": {},
   "source": [
    "## Step 6 : Visualize the Results\n",
    "Plot a histogram to visualise the results"
   ]
  },
  {
   "cell_type": "code",
   "execution_count": 6,
   "id": "aeb76aea",
   "metadata": {},
   "outputs": [
    {
     "data": {
      "image/png": "[encoded data removed]",
      "text/plain": [
       "<Figure size 700x500 with 1 Axes>"
      ]
     },
     "execution_count": 6,
     "metadata": {},
     "output_type": "execute_result"
    }
   ],
   "source": [
    "plot_histogram(counts)"
   ]
  }
 ],
 "metadata": {
  "kernelspec": {
   "display_name": "Python 3 (ipykernel)",
   "language": "python",
   "name": "python3"
  },
  "language_info": {
   "codemirror_mode": {
    "name": "ipython",
    "version": 3
   },
   "file_extension": ".py",
   "mimetype": "text/x-python",
   "name": "python",
   "nbconvert_exporter": "python",
   "pygments_lexer": "ipython3",
   "version": "3.11.4"
  }
 },
 "nbformat": 4,
 "nbformat_minor": 5
}
