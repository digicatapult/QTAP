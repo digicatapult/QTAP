{
 "cells": [
  {
   "cell_type": "markdown",
   "id": "05743ac6",
   "metadata": {},
   "source": [
    "# Examples for Python survival course"
   ]
  },
  {
   "cell_type": "markdown",
   "id": "f2d90bf7",
   "metadata": {},
   "source": [
    "## Example 1 - Hello world"
   ]
  },
  {
   "cell_type": "code",
   "execution_count": 1,
   "id": "dec0123d",
   "metadata": {},
   "outputs": [
    {
     "name": "stdout",
     "output_type": "stream",
     "text": [
      "Hello world\n"
     ]
    }
   ],
   "source": [
    "print('Hello world')"
   ]
  },
  {
   "cell_type": "markdown",
   "id": "f552b183",
   "metadata": {},
   "source": [
    "## Example 2 - Tuples"
   ]
  },
  {
   "cell_type": "code",
   "execution_count": 2,
   "id": "6a58a703",
   "metadata": {},
   "outputs": [
    {
     "name": "stdout",
     "output_type": "stream",
     "text": [
      "('a', 'b', 'c')\n",
      "b\n"
     ]
    }
   ],
   "source": [
    "my_tuple = ('a','b','c')\n",
    "print(my_tuple)\n",
    "print(my_tuple[1])"
   ]
  },
  {
   "cell_type": "markdown",
   "id": "50596805",
   "metadata": {},
   "source": [
    "## Example 3 - Lists"
   ]
  },
  {
   "cell_type": "code",
   "execution_count": 3,
   "id": "8b3b77c8",
   "metadata": {},
   "outputs": [
    {
     "name": "stdout",
     "output_type": "stream",
     "text": [
      "['a', 'b', 'c']\n",
      "3\n"
     ]
    }
   ],
   "source": [
    "my_list = ['a','b','c'] \n",
    "print(my_list)\n",
    "\n",
    "print(len(my_list))"
   ]
  },
  {
   "cell_type": "markdown",
   "id": "161b9527",
   "metadata": {},
   "source": [
    "## Example 4 - Dictionaries"
   ]
  },
  {
   "cell_type": "code",
   "execution_count": 4,
   "id": "a18fcc9e",
   "metadata": {},
   "outputs": [
    {
     "name": "stdout",
     "output_type": "stream",
     "text": [
      "{'brand': 'Vauxhall', 'model': 'Passat', 'year': 2020}\n"
     ]
    }
   ],
   "source": [
    "my_dict = {\n",
    "  \"brand\": 'Vauxhall',\n",
    "  \"model\": 'Passat',\n",
    "  \"year\": 2020\n",
    "}\n",
    "print(my_dict)"
   ]
  },
  {
   "cell_type": "markdown",
   "id": "f1168269",
   "metadata": {},
   "source": [
    "## Example 5 - Logic"
   ]
  },
  {
   "cell_type": "code",
   "execution_count": 5,
   "id": "164a5646",
   "metadata": {},
   "outputs": [
    {
     "name": "stdout",
     "output_type": "stream",
     "text": [
      "This is a medium list\n"
     ]
    }
   ],
   "source": [
    "my_list = ['a','b','c']\n",
    "if len(my_list) > 5:\n",
    "    print('This is a long list')\n",
    "elif len(my_list) > 2:\n",
    "    print('This is a medium list')\n",
    "else:\n",
    "    print('This is a short list')"
   ]
  },
  {
   "cell_type": "markdown",
   "id": "e8733628",
   "metadata": {},
   "source": [
    "## Example 6 - Iteration"
   ]
  },
  {
   "cell_type": "code",
   "execution_count": 6,
   "id": "fffecd10",
   "metadata": {},
   "outputs": [
    {
     "name": "stdout",
     "output_type": "stream",
     "text": [
      "1\n",
      "4\n",
      "9\n"
     ]
    }
   ],
   "source": [
    "my_list = [1, 2, 3]\n",
    "for item in my_list:\n",
    "    item = item**2\n",
    "    print(item)"
   ]
  },
  {
   "cell_type": "markdown",
   "id": "63543813",
   "metadata": {},
   "source": [
    "## Example 7 - Functions"
   ]
  },
  {
   "cell_type": "code",
   "execution_count": 7,
   "id": "06fde585",
   "metadata": {},
   "outputs": [
    {
     "name": "stdout",
     "output_type": "stream",
     "text": [
      "14\n"
     ]
    }
   ],
   "source": [
    "#define function to return sum of squares in the list\n",
    "def my_function(funct_list):\n",
    "    sum_square = 0  #initialise sum\n",
    "    for item in funct_list:\n",
    "        sum_square += item**2 #square each item and increment sum\t\n",
    "    return sum_square\n",
    "\n",
    "#call the function\n",
    "my_list = [1, 2, 3]\n",
    "sum_square = my_function(my_list)\n",
    "print(sum_square)"
   ]
  },
  {
   "cell_type": "markdown",
   "id": "ee137771",
   "metadata": {},
   "source": [
    "## Example 8 - Formatting"
   ]
  },
  {
   "cell_type": "code",
   "execution_count": 8,
   "id": "dc62e984",
   "metadata": {},
   "outputs": [
    {
     "name": "stdout",
     "output_type": "stream",
     "text": [
      "A third is 0.333 when rounded to three decimal places\n"
     ]
    }
   ],
   "source": [
    "fraction = 1/3\n",
    "fraction_name = 'A third'\n",
    "print(f'{fraction_name} is {fraction:.3f} when rounded to three decimal places')"
   ]
  },
  {
   "cell_type": "markdown",
   "id": "b9e311ce",
   "metadata": {},
   "source": [
    "## Example 9 - Plotting a graph"
   ]
  },
  {
   "cell_type": "code",
   "execution_count": 9,
   "id": "2f7f61e5",
   "metadata": {},
   "outputs": [],
   "source": [
    "import matplotlib.pyplot as plt\n",
    "import numpy as np\n",
    "%matplotlib inline"
   ]
  },
  {
   "cell_type": "code",
   "execution_count": 10,
   "id": "6c035549",
   "metadata": {},
   "outputs": [],
   "source": [
    "theta = np.arange(0,4*np.pi,0.1)   # start,stop,step\n",
    "y = np.sin(theta)\n",
    "z = np.cos(theta)"
   ]
  },
  {
   "cell_type": "code",
   "execution_count": 11,
   "id": "adef58fb",
   "metadata": {},
   "outputs": [
    {
     "data": {
      "image/png": "[encoded data removed]",
      "text/plain": [
       "<Figure size 432x288 with 1 Axes>"
      ]
     },
     "metadata": {
      "needs_background": "light"
     },
     "output_type": "display_data"
    }
   ],
   "source": [
    "plt.plot(theta,y,theta,z)\n",
    "plt.title('Plot of sin and cos')\n",
    "plt.savefig(r'simple_sine_wave.png')\n",
    "plt.show()"
   ]
  }
 ],
 "metadata": {
  "kernelspec": {
   "display_name": "Python 3 (ipykernel)",
   "language": "python",
   "name": "python3"
  },
  "language_info": {
   "codemirror_mode": {
    "name": "ipython",
    "version": 3
   },
   "file_extension": ".py",
   "mimetype": "text/x-python",
   "name": "python",
   "nbconvert_exporter": "python",
   "pygments_lexer": "ipython3",
   "version": "3.9.7"
  }
 },
 "nbformat": 4,
 "nbformat_minor": 5
}
