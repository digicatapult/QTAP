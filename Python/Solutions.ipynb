{
 "cells": [
  {
   "cell_type": "markdown",
   "id": "4aa3882d",
   "metadata": {},
   "source": [
    "# Solutions"
   ]
  },
  {
   "cell_type": "markdown",
   "id": "38d64876",
   "metadata": {},
   "source": [
    "## Exercise 1 - tuples"
   ]
  },
  {
   "cell_type": "code",
   "execution_count": 1,
   "id": "df58e6dc",
   "metadata": {},
   "outputs": [
    {
     "name": "stdout",
     "output_type": "stream",
     "text": [
      "(1, 2, 3)\n"
     ]
    }
   ],
   "source": [
    "# Write some Python code to set up my_tuple as a tuple with entries 1, 2, 3\n",
    "my_tuple = (1, 2, 3)\n",
    "\n",
    "# Write some code to print out my_tuple\n",
    "print(my_tuple)"
   ]
  },
  {
   "cell_type": "markdown",
   "id": "3fc09ac7",
   "metadata": {},
   "source": [
    "## Exercise 2 - lists"
   ]
  },
  {
   "cell_type": "code",
   "execution_count": 2,
   "id": "a487314d",
   "metadata": {},
   "outputs": [
    {
     "name": "stdout",
     "output_type": "stream",
     "text": [
      "[1, 2, 3]\n"
     ]
    }
   ],
   "source": [
    "# Change the code below to set up some Python code to set up my_list as a list with entries 1, 2, 3.  \n",
    "my_list = [1, 2, 3]\n",
    "\n",
    "# Write some code to print out my_list\n",
    "print(my_list)"
   ]
  },
  {
   "cell_type": "markdown",
   "id": "2cb43367",
   "metadata": {},
   "source": [
    "## Exercise 3 - logic"
   ]
  },
  {
   "cell_type": "code",
   "execution_count": 3,
   "id": "27140115",
   "metadata": {},
   "outputs": [
    {
     "name": "stdout",
     "output_type": "stream",
     "text": [
      "List has more than 2 entries\n"
     ]
    }
   ],
   "source": [
    "# Write some Python code that prints out \n",
    "#'List has more than 2 entries' if my_list has more than 2 entries', and otherwise\n",
    "#'List has 2 or fewer entries'\n",
    "# Hint use an if / else construction.  Remember to put use the : after if / else and indent the line by four charactors\n",
    "length = len(my_list)\n",
    "if length > 2:\n",
    "    print('List has more than 2 entries')\n",
    "else:\n",
    "    print('List has 2 or fewer entries')"
   ]
  },
  {
   "cell_type": "markdown",
   "id": "f3048580",
   "metadata": {},
   "source": [
    "## Exercise 4 - iteration"
   ]
  },
  {
   "cell_type": "code",
   "execution_count": 4,
   "id": "8385009f",
   "metadata": {},
   "outputs": [
    {
     "name": "stdout",
     "output_type": "stream",
     "text": [
      "1\n",
      "8\n",
      "27\n"
     ]
    }
   ],
   "source": [
    "#Write some Python code to iterate over the list and print out the cube of the numbers. \n",
    "#The code below has been started, but is not complete or correct: \n",
    "for item in my_list:\n",
    "    print(item**3)"
   ]
  },
  {
   "cell_type": "markdown",
   "id": "3a2aaf15",
   "metadata": {},
   "source": [
    "## Exercise 5 - functions"
   ]
  },
  {
   "cell_type": "code",
   "execution_count": 5,
   "id": "643c0100",
   "metadata": {},
   "outputs": [],
   "source": [
    "# Complete the python code below to set up a function module to return the sum of the cubes of the items.\n",
    "# The code has been started below"
   ]
  },
  {
   "cell_type": "code",
   "execution_count": 6,
   "id": "b2367175",
   "metadata": {},
   "outputs": [],
   "source": [
    "def sum_of_cubes(input_list):\n",
    "    sum_of_cubes = 0\n",
    "    for item in input_list:\n",
    "        sum_of_cubes += item**3\n",
    "    return(sum_of_cubes)"
   ]
  },
  {
   "cell_type": "code",
   "execution_count": 7,
   "id": "a88e404e",
   "metadata": {},
   "outputs": [
    {
     "name": "stdout",
     "output_type": "stream",
     "text": [
      "36\n"
     ]
    }
   ],
   "source": [
    "# some code has been written to call your function\n",
    "# now add some more code to print out the sums of values in my_list.\n",
    "# is the answer what you expect?\n",
    "\n",
    "total = sum_of_cubes(my_list)\n",
    "print(total)"
   ]
  },
  {
   "cell_type": "markdown",
   "id": "255f194f",
   "metadata": {},
   "source": [
    "## Exercise 6 - importing and formatting"
   ]
  },
  {
   "cell_type": "code",
   "execution_count": 8,
   "id": "9ff179c6",
   "metadata": {},
   "outputs": [
    {
     "name": "stdout",
     "output_type": "stream",
     "text": [
      "pi = 3.14159\n"
     ]
    }
   ],
   "source": [
    "#Write code to import the numpy library as np\n",
    "import numpy as np\n",
    "#set the variable pi to np.pi\n",
    "pi = np.pi\n",
    "#change this f statement to print out pi to 5 places of decimals\n",
    "print(f'pi = {pi:.5f}')"
   ]
  }
 ],
 "metadata": {
  "kernelspec": {
   "display_name": "Python 3 (ipykernel)",
   "language": "python",
   "name": "python3"
  },
  "language_info": {
   "codemirror_mode": {
    "name": "ipython",
    "version": 3
   },
   "file_extension": ".py",
   "mimetype": "text/x-python",
   "name": "python",
   "nbconvert_exporter": "python",
   "pygments_lexer": "ipython3",
   "version": "3.9.7"
  }
 },
 "nbformat": 4,
 "nbformat_minor": 5
}
